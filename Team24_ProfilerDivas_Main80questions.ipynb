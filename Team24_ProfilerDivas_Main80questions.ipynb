{
 "cells": [
  {
   "cell_type": "markdown",
   "id": "1081fde8",
   "metadata": {},
   "source": [
    "#install all the necessary libraries \n",
    "pip install pandas numpy matplotlib seaborn openpyxl"
   ]
  },
  {
   "cell_type": "code",
   "execution_count": 4,
   "id": "a73c4ec2",
   "metadata": {},
   "outputs": [
    {
     "name": "stdout",
     "output_type": "stream",
     "text": [
      "Collecting pandas\n",
      "  Using cached pandas-2.2.3-cp311-cp311-win_amd64.whl (11.6 MB)\n",
      "Requirement already satisfied: numpy>=1.23.2 in c:\\users\\hp\\appdata\\local\\programs\\python\\python311\\lib\\site-packages (from pandas) (2.2.2)\n",
      "Requirement already satisfied: python-dateutil>=2.8.2 in c:\\users\\hp\\appdata\\roaming\\python\\python311\\site-packages (from pandas) (2.9.0.post0)\n",
      "Requirement already satisfied: pytz>=2020.1 in c:\\users\\hp\\appdata\\local\\programs\\python\\python311\\lib\\site-packages (from pandas) (2025.1)\n",
      "Requirement already satisfied: tzdata>=2022.7 in c:\\users\\hp\\appdata\\local\\programs\\python\\python311\\lib\\site-packages (from pandas) (2025.1)\n",
      "Requirement already satisfied: six>=1.5 in c:\\users\\hp\\appdata\\roaming\\python\\python311\\site-packages (from python-dateutil>=2.8.2->pandas) (1.16.0)\n",
      "Installing collected packages: pandas\n",
      "Successfully installed pandas-2.2.3\n",
      "Note: you may need to restart the kernel to use updated packages.\n"
     ]
    },
    {
     "name": "stderr",
     "output_type": "stream",
     "text": [
      "\n",
      "[notice] A new release of pip available: 22.3.1 -> 25.0\n",
      "[notice] To update, run: python.exe -m pip install --upgrade pip\n"
     ]
    }
   ],
   "source": [
    "pip install pandas"
   ]
  },
  {
   "cell_type": "code",
   "execution_count": 7,
   "id": "8a066a8e",
   "metadata": {},
   "outputs": [
    {
     "name": "stdout",
     "output_type": "stream",
     "text": [
      "Collecting seaborn\n",
      "  Using cached seaborn-0.13.2-py3-none-any.whl (294 kB)\n",
      "Requirement already satisfied: numpy!=1.24.0,>=1.20 in c:\\users\\hp\\appdata\\local\\programs\\python\\python311\\lib\\site-packages (from seaborn) (2.2.2)\n",
      "Requirement already satisfied: pandas>=1.2 in c:\\users\\hp\\appdata\\local\\programs\\python\\python311\\lib\\site-packages (from seaborn) (2.2.3)\n",
      "Collecting matplotlib!=3.6.1,>=3.4\n",
      "  Using cached matplotlib-3.10.0-cp311-cp311-win_amd64.whl (8.0 MB)\n",
      "Collecting contourpy>=1.0.1\n",
      "  Using cached contourpy-1.3.1-cp311-cp311-win_amd64.whl (219 kB)\n",
      "Requirement already satisfied: cycler>=0.10 in c:\\users\\hp\\appdata\\local\\programs\\python\\python311\\lib\\site-packages (from matplotlib!=3.6.1,>=3.4->seaborn) (0.12.1)\n",
      "Requirement already satisfied: fonttools>=4.22.0 in c:\\users\\hp\\appdata\\local\\programs\\python\\python311\\lib\\site-packages (from matplotlib!=3.6.1,>=3.4->seaborn) (4.55.8)\n",
      "Requirement already satisfied: kiwisolver>=1.3.1 in c:\\users\\hp\\appdata\\local\\programs\\python\\python311\\lib\\site-packages (from matplotlib!=3.6.1,>=3.4->seaborn) (1.4.8)\n",
      "Requirement already satisfied: packaging>=20.0 in c:\\users\\hp\\appdata\\roaming\\python\\python311\\site-packages (from matplotlib!=3.6.1,>=3.4->seaborn) (24.0)\n",
      "Requirement already satisfied: pillow>=8 in c:\\users\\hp\\appdata\\local\\programs\\python\\python311\\lib\\site-packages (from matplotlib!=3.6.1,>=3.4->seaborn) (11.1.0)\n",
      "Requirement already satisfied: pyparsing>=2.3.1 in c:\\users\\hp\\appdata\\local\\programs\\python\\python311\\lib\\site-packages (from matplotlib!=3.6.1,>=3.4->seaborn) (3.2.1)\n",
      "Requirement already satisfied: python-dateutil>=2.7 in c:\\users\\hp\\appdata\\roaming\\python\\python311\\site-packages (from matplotlib!=3.6.1,>=3.4->seaborn) (2.9.0.post0)\n",
      "Requirement already satisfied: pytz>=2020.1 in c:\\users\\hp\\appdata\\local\\programs\\python\\python311\\lib\\site-packages (from pandas>=1.2->seaborn) (2025.1)\n",
      "Requirement already satisfied: tzdata>=2022.7 in c:\\users\\hp\\appdata\\local\\programs\\python\\python311\\lib\\site-packages (from pandas>=1.2->seaborn) (2025.1)\n",
      "Requirement already satisfied: six>=1.5 in c:\\users\\hp\\appdata\\roaming\\python\\python311\\site-packages (from python-dateutil>=2.7->matplotlib!=3.6.1,>=3.4->seaborn) (1.16.0)\n",
      "Installing collected packages: contourpy, matplotlib, seaborn\n",
      "Successfully installed contourpy-1.3.1 matplotlib-3.10.0 seaborn-0.13.2\n",
      "Note: you may need to restart the kernel to use updated packages.\n"
     ]
    },
    {
     "name": "stderr",
     "output_type": "stream",
     "text": [
      "\n",
      "[notice] A new release of pip available: 22.3.1 -> 25.0\n",
      "[notice] To update, run: python.exe -m pip install --upgrade pip\n"
     ]
    }
   ],
   "source": [
    "pip install seaborn"
   ]
  },
  {
   "cell_type": "code",
   "execution_count": 9,
   "id": "f5b7d2f5",
   "metadata": {},
   "outputs": [
    {
     "name": "stdout",
     "output_type": "stream",
     "text": [
      "Collecting WordCloud\n",
      "  Using cached wordcloud-1.9.4-cp311-cp311-win_amd64.whl (299 kB)\n",
      "Requirement already satisfied: numpy>=1.6.1 in c:\\users\\hp\\appdata\\local\\programs\\python\\python311\\lib\\site-packages (from WordCloud) (2.2.2)\n",
      "Requirement already satisfied: pillow in c:\\users\\hp\\appdata\\local\\programs\\python\\python311\\lib\\site-packages (from WordCloud) (11.1.0)\n",
      "Requirement already satisfied: matplotlib in c:\\users\\hp\\appdata\\local\\programs\\python\\python311\\lib\\site-packages (from WordCloud) (3.10.0)\n",
      "Requirement already satisfied: contourpy>=1.0.1 in c:\\users\\hp\\appdata\\local\\programs\\python\\python311\\lib\\site-packages (from matplotlib->WordCloud) (1.3.1)\n",
      "Requirement already satisfied: cycler>=0.10 in c:\\users\\hp\\appdata\\local\\programs\\python\\python311\\lib\\site-packages (from matplotlib->WordCloud) (0.12.1)\n",
      "Requirement already satisfied: fonttools>=4.22.0 in c:\\users\\hp\\appdata\\local\\programs\\python\\python311\\lib\\site-packages (from matplotlib->WordCloud) (4.55.8)\n",
      "Requirement already satisfied: kiwisolver>=1.3.1 in c:\\users\\hp\\appdata\\local\\programs\\python\\python311\\lib\\site-packages (from matplotlib->WordCloud) (1.4.8)\n",
      "Requirement already satisfied: packaging>=20.0 in c:\\users\\hp\\appdata\\roaming\\python\\python311\\site-packages (from matplotlib->WordCloud) (24.0)\n",
      "Requirement already satisfied: pyparsing>=2.3.1 in c:\\users\\hp\\appdata\\local\\programs\\python\\python311\\lib\\site-packages (from matplotlib->WordCloud) (3.2.1)\n",
      "Requirement already satisfied: python-dateutil>=2.7 in c:\\users\\hp\\appdata\\roaming\\python\\python311\\site-packages (from matplotlib->WordCloud) (2.9.0.post0)\n",
      "Requirement already satisfied: six>=1.5 in c:\\users\\hp\\appdata\\roaming\\python\\python311\\site-packages (from python-dateutil>=2.7->matplotlib->WordCloud) (1.16.0)\n",
      "Installing collected packages: WordCloud\n",
      "Successfully installed WordCloud-1.9.4\n",
      "Note: you may need to restart the kernel to use updated packages.\n"
     ]
    },
    {
     "name": "stderr",
     "output_type": "stream",
     "text": [
      "  WARNING: The script wordcloud_cli.exe is installed in 'c:\\Users\\HP\\AppData\\Local\\Programs\\Python\\Python311\\Scripts' which is not on PATH.\n",
      "  Consider adding this directory to PATH or, if you prefer to suppress this warning, use --no-warn-script-location.\n",
      "\n",
      "[notice] A new release of pip available: 22.3.1 -> 25.0\n",
      "[notice] To update, run: python.exe -m pip install --upgrade pip\n"
     ]
    }
   ],
   "source": [
    "pip install WordCloud"
   ]
  },
  {
   "cell_type": "markdown",
   "id": "41438206",
   "metadata": {},
   "source": [
    "#import the installed libraries"
   ]
  },
  {
   "cell_type": "code",
   "execution_count": 1,
   "id": "6e8cf9ba-1bfb-4e20-b748-6c1023d584b3",
   "metadata": {
    "tags": []
   },
   "outputs": [],
   "source": [
    "import pandas as pd\n",
    "import numpy as np\n",
    "import seaborn as sns\n",
    "import matplotlib.pyplot as plt\n",
    "import plotly.express as px\n",
    "from datetime import date, timedelta\n",
    "from wordcloud import WordCloud"
   ]
  },
  {
   "cell_type": "code",
   "execution_count": 3,
   "id": "44d26784",
   "metadata": {},
   "outputs": [
    {
     "name": "stdout",
     "output_type": "stream",
     "text": [
      "Requirement already satisfied: pandas in c:\\users\\hp\\appdata\\local\\programs\\python\\python311\\lib\\site-packages (2.2.3)\n",
      "Requirement already satisfied: openpyxl in c:\\users\\hp\\appdata\\local\\programs\\python\\python311\\lib\\site-packages (3.1.5)\n",
      "Requirement already satisfied: numpy>=1.23.2 in c:\\users\\hp\\appdata\\local\\programs\\python\\python311\\lib\\site-packages (from pandas) (2.2.2)\n",
      "Requirement already satisfied: python-dateutil>=2.8.2 in c:\\users\\hp\\appdata\\roaming\\python\\python311\\site-packages (from pandas) (2.9.0.post0)\n",
      "Requirement already satisfied: pytz>=2020.1 in c:\\users\\hp\\appdata\\local\\programs\\python\\python311\\lib\\site-packages (from pandas) (2025.1)\n",
      "Requirement already satisfied: tzdata>=2022.7 in c:\\users\\hp\\appdata\\local\\programs\\python\\python311\\lib\\site-packages (from pandas) (2025.1)\n",
      "Requirement already satisfied: et-xmlfile in c:\\users\\hp\\appdata\\local\\programs\\python\\python311\\lib\\site-packages (from openpyxl) (2.0.0)\n",
      "Requirement already satisfied: six>=1.5 in c:\\users\\hp\\appdata\\roaming\\python\\python311\\site-packages (from python-dateutil>=2.8.2->pandas) (1.16.0)\n",
      "Note: you may need to restart the kernel to use updated packages.\n"
     ]
    },
    {
     "name": "stderr",
     "output_type": "stream",
     "text": [
      "\n",
      "[notice] A new release of pip available: 22.3.1 -> 25.0\n",
      "[notice] To update, run: python.exe -m pip install --upgrade pip\n"
     ]
    }
   ],
   "source": [
    "pip install pandas openpyxl"
   ]
  },
  {
   "cell_type": "markdown",
   "id": "3d6adec8",
   "metadata": {},
   "source": [
    "# load the dataset and print the first few rows using head"
   ]
  },
  {
   "cell_type": "code",
   "execution_count": 2,
   "id": "d4169c57",
   "metadata": {},
   "outputs": [],
   "source": [
    "df = pd.read_excel(\"Exam Stress Final.xlsx\")"
   ]
  },
  {
   "cell_type": "code",
   "execution_count": 3,
   "id": "946baea5",
   "metadata": {},
   "outputs": [
    {
     "name": "stdout",
     "output_type": "stream",
     "text": [
      "  Student_id  Midterm 1  Midterm 2  final\n",
      "0        S01         78         82    182\n",
      "1        S02         82         85    180\n",
      "2        S03         77         90    188\n",
      "3        S04         75         77    149\n",
      "4        S05         67         77    157\n"
     ]
    }
   ],
   "source": [
    "print(df.head())"
   ]
  },
  {
   "cell_type": "markdown",
   "id": "fbcae919",
   "metadata": {},
   "source": [
    "# loading dataset and then to view specific sheet of the excel"
   ]
  },
  {
   "cell_type": "code",
   "execution_count": 8,
   "id": "c51ec0d1",
   "metadata": {},
   "outputs": [
    {
     "name": "stdout",
     "output_type": "stream",
     "text": [
      "   Time in mins    IBI Student_id   Exam\n",
      "0             0  0.446        S01  final\n",
      "1             1  0.473        S01  final\n",
      "2             3  0.444        S01  final\n",
      "3             4  0.496        S01  final\n",
      "4             8  0.448        S01  final\n"
     ]
    }
   ],
   "source": [
    "df_ibi = pd.read_excel(\"Exam Stress Final.xlsx\", sheet_name=\"IBI\")\n",
    "print(df_ibi.head())"
   ]
  },
  {
   "cell_type": "markdown",
   "id": "852f47c9",
   "metadata": {},
   "source": [
    "# to get the column details"
   ]
  },
  {
   "cell_type": "code",
   "execution_count": 5,
   "id": "90356c11",
   "metadata": {},
   "outputs": [
    {
     "name": "stdout",
     "output_type": "stream",
     "text": [
      "<class 'pandas.core.frame.DataFrame'>\n",
      "RangeIndex: 3315 entries, 0 to 3314\n",
      "Data columns (total 4 columns):\n",
      " #   Column        Non-Null Count  Dtype  \n",
      "---  ------        --------------  -----  \n",
      " 0   Time in mins  3315 non-null   int64  \n",
      " 1   IBI           3315 non-null   float64\n",
      " 2   Student_id    3315 non-null   object \n",
      " 3   Exam          3315 non-null   object \n",
      "dtypes: float64(1), int64(1), object(2)\n",
      "memory usage: 103.7+ KB\n",
      "None\n"
     ]
    }
   ],
   "source": [
    "print(df_ibi.info())"
   ]
  },
  {
   "cell_type": "markdown",
   "id": "bab8fd98",
   "metadata": {},
   "source": [
    "# To get the basic stats"
   ]
  },
  {
   "cell_type": "code",
   "execution_count": 6,
   "id": "ffa6e066",
   "metadata": {},
   "outputs": [
    {
     "name": "stdout",
     "output_type": "stream",
     "text": [
      "       Time in mins          IBI\n",
      "count   3315.000000  3315.000000\n",
      "mean     101.056712     0.608875\n",
      "std       59.884926     0.157723\n",
      "min        0.000000     0.313000\n",
      "25%       53.500000     0.492000\n",
      "50%       97.000000     0.594000\n",
      "75%      144.000000     0.721500\n",
      "max      390.000000     1.531000\n"
     ]
    }
   ],
   "source": [
    "print(df_ibi.describe())"
   ]
  },
  {
   "cell_type": "markdown",
   "id": "860f2d59",
   "metadata": {},
   "source": [
    "# To check for missing values"
   ]
  },
  {
   "cell_type": "code",
   "execution_count": 7,
   "id": "bf9cdb7f",
   "metadata": {},
   "outputs": [
    {
     "name": "stdout",
     "output_type": "stream",
     "text": [
      "Time in mins    0\n",
      "IBI             0\n",
      "Student_id      0\n",
      "Exam            0\n",
      "dtype: int64\n"
     ]
    }
   ],
   "source": [
    "print(df_ibi.isnull().sum())"
   ]
  },
  {
   "cell_type": "code",
   "execution_count": 12,
   "id": "076e979f-cbc9-4763-b465-5b6156b5fc5b",
   "metadata": {
    "tags": []
   },
   "outputs": [],
   "source": [
    "import warnings\n",
    "warnings.filterwarnings('ignore')"
   ]
  },
  {
   "cell_type": "markdown",
   "id": "81e97c4f",
   "metadata": {},
   "source": [
    "#To calculate RMSSD \n",
    "1.import numpy - mathematical operations\n",
    "2.creating a function\n",
    "3.we need to calculate the differences between consecutive IBI values\n",
    "4.we need to square the differences\n",
    "5.find the mean and square root \n",
    "6.we are grouping student ID and exam to calculate RMSSD separately for each student in each exam\n",
    "7.rolling window of 30 takes time into account\n",
    "8.if we dont put min_periods = 2, the first value will be considered 0 which is wrong. we atleast need 2 values to calculate RMSSD.\n",
    "9.apply function applies the RMSSD function to 30 minute window and reset function removes extra index columnd created by groupby\n"
   ]
  },
  {
   "cell_type": "markdown",
   "id": "2a0482e0-061d-41b4-b97f-d38c3714fae5",
   "metadata": {},
   "source": [
    "## Q1: Using the mean interbeat interval per minute, calculate the Root Mean Square of successive differences for any 30 minute interval and add this to IBI\n"
   ]
  },
  {
   "cell_type": "code",
   "execution_count": 9,
   "id": "cf9a7a8c",
   "metadata": {},
   "outputs": [
    {
     "data": {
      "text/html": [
       "<div>\n",
       "<style scoped>\n",
       "    .dataframe tbody tr th:only-of-type {\n",
       "        vertical-align: middle;\n",
       "    }\n",
       "\n",
       "    .dataframe tbody tr th {\n",
       "        vertical-align: top;\n",
       "    }\n",
       "\n",
       "    .dataframe thead th {\n",
       "        text-align: right;\n",
       "    }\n",
       "</style>\n",
       "<table border=\"1\" class=\"dataframe\">\n",
       "  <thead>\n",
       "    <tr style=\"text-align: right;\">\n",
       "      <th></th>\n",
       "      <th>Time in mins</th>\n",
       "      <th>IBI</th>\n",
       "      <th>Student_id</th>\n",
       "      <th>Exam</th>\n",
       "      <th>RMSSD</th>\n",
       "    </tr>\n",
       "  </thead>\n",
       "  <tbody>\n",
       "    <tr>\n",
       "      <th>0</th>\n",
       "      <td>0</td>\n",
       "      <td>0.446</td>\n",
       "      <td>S01</td>\n",
       "      <td>final</td>\n",
       "      <td>NaN</td>\n",
       "    </tr>\n",
       "    <tr>\n",
       "      <th>1</th>\n",
       "      <td>1</td>\n",
       "      <td>0.473</td>\n",
       "      <td>S01</td>\n",
       "      <td>final</td>\n",
       "      <td>0.027000</td>\n",
       "    </tr>\n",
       "    <tr>\n",
       "      <th>2</th>\n",
       "      <td>3</td>\n",
       "      <td>0.444</td>\n",
       "      <td>S01</td>\n",
       "      <td>final</td>\n",
       "      <td>0.028018</td>\n",
       "    </tr>\n",
       "    <tr>\n",
       "      <th>3</th>\n",
       "      <td>4</td>\n",
       "      <td>0.496</td>\n",
       "      <td>S01</td>\n",
       "      <td>final</td>\n",
       "      <td>0.037745</td>\n",
       "    </tr>\n",
       "    <tr>\n",
       "      <th>4</th>\n",
       "      <td>8</td>\n",
       "      <td>0.448</td>\n",
       "      <td>S01</td>\n",
       "      <td>final</td>\n",
       "      <td>0.040552</td>\n",
       "    </tr>\n",
       "  </tbody>\n",
       "</table>\n",
       "</div>"
      ],
      "text/plain": [
       "   Time in mins    IBI Student_id   Exam     RMSSD\n",
       "0             0  0.446        S01  final       NaN\n",
       "1             1  0.473        S01  final  0.027000\n",
       "2             3  0.444        S01  final  0.028018\n",
       "3             4  0.496        S01  final  0.037745\n",
       "4             8  0.448        S01  final  0.040552"
      ]
     },
     "execution_count": 9,
     "metadata": {},
     "output_type": "execute_result"
    }
   ],
   "source": [
    "import numpy as np\n",
    "\n",
    "def calculate_rmssd(ibi_series):\n",
    "    differences = np.diff(ibi_series)\n",
    "    squared_diffs = differences ** 2\n",
    "    return np.sqrt(np.mean(squared_diffs))\n",
    "\n",
    "df_ibi[\"RMSSD\"] = df_ibi.groupby([\"Student_id\", \"Exam\"])[\"IBI\"].rolling(\n",
    "    window=30, min_periods=2).apply(calculate_rmssd, raw=True).reset_index(level=[0,1], drop=True)\n",
    "\n",
    "df_ibi.head()"
   ]
  },
  {
   "cell_type": "code",
   "execution_count": 9,
   "id": "1d5a0ebb",
   "metadata": {},
   "outputs": [],
   "source": [
    "df_ibi.to_excel(\"Processed_IBI.xlsx\", index=False)"
   ]
  },
  {
   "cell_type": "markdown",
   "id": "3e233982",
   "metadata": {},
   "source": [
    "First we need to calculate min and max. eg: min = 1, max = 9\n",
    "Then, we need to calculate the intervals. eg: (9-1)/3 = 2.67\n",
    "Then, we need to calculate the boundaries. eg: first part = 1 + 2.67 = 3.67, second part = 3.67 + 2.67 = 6.34\n",
    "Based on this value, we can categorize. All values below 3.67 are first, values below 6.34 are second and values above 6.34 are third"
   ]
  },
  {
   "cell_type": "markdown",
   "id": "3eeeb203-5798-4fee-818f-a9ce6a523b06",
   "metadata": {},
   "source": [
    "## 2. Group the rows in the file EDA into 3 parts based on time: First, Second, Third part of each exam"
   ]
  },
  {
   "cell_type": "code",
   "execution_count": 5,
   "id": "0142c61e",
   "metadata": {},
   "outputs": [
    {
     "name": "stdout",
     "output_type": "stream",
     "text": [
      "     EDA  Time in mins Student_id   Exam\n",
      "0  0.040             1        S01  final\n",
      "1  0.024             2        S01  final\n",
      "2  0.024             3        S01  final\n",
      "3  0.024             4        S01  final\n",
      "4  0.024             5        S01  final\n"
     ]
    }
   ],
   "source": [
    "import pandas as pd\n",
    "import numpy as np\n",
    "# Load the EDA sheet\n",
    "df_eda = pd.read_excel(\"Exam Stress Final.xlsx\", sheet_name=\"EDA\")\n",
    "print(df_eda.head())"
   ]
  },
  {
   "cell_type": "code",
   "execution_count": 7,
   "id": "3eaa57ce",
   "metadata": {},
   "outputs": [
    {
     "name": "stderr",
     "output_type": "stream",
     "text": [
      "C:\\Users\\HP\\AppData\\Local\\Temp\\ipykernel_6060\\2245008299.py:19: DeprecationWarning: DataFrameGroupBy.apply operated on the grouping columns. This behavior is deprecated, and in a future version of pandas the grouping columns will be excluded from the operation. Either pass `include_groups=False` to exclude the groupings or explicitly select the grouping columns after groupby to silence this warning.\n",
      "  eda_df_grouped = df_eda.groupby(\"Exam\", group_keys=False).apply(categorize_time)\n"
     ]
    },
    {
     "data": {
      "text/html": [
       "<div>\n",
       "<style scoped>\n",
       "    .dataframe tbody tr th:only-of-type {\n",
       "        vertical-align: middle;\n",
       "    }\n",
       "\n",
       "    .dataframe tbody tr th {\n",
       "        vertical-align: top;\n",
       "    }\n",
       "\n",
       "    .dataframe thead th {\n",
       "        text-align: right;\n",
       "    }\n",
       "</style>\n",
       "<table border=\"1\" class=\"dataframe\">\n",
       "  <thead>\n",
       "    <tr style=\"text-align: right;\">\n",
       "      <th></th>\n",
       "      <th>EDA</th>\n",
       "      <th>Time in mins</th>\n",
       "      <th>Student_id</th>\n",
       "      <th>Exam</th>\n",
       "      <th>Time Category</th>\n",
       "    </tr>\n",
       "  </thead>\n",
       "  <tbody>\n",
       "    <tr>\n",
       "      <th>0</th>\n",
       "      <td>0.040</td>\n",
       "      <td>1</td>\n",
       "      <td>S01</td>\n",
       "      <td>final</td>\n",
       "      <td>First</td>\n",
       "    </tr>\n",
       "    <tr>\n",
       "      <th>1</th>\n",
       "      <td>0.024</td>\n",
       "      <td>2</td>\n",
       "      <td>S01</td>\n",
       "      <td>final</td>\n",
       "      <td>First</td>\n",
       "    </tr>\n",
       "    <tr>\n",
       "      <th>2</th>\n",
       "      <td>0.024</td>\n",
       "      <td>3</td>\n",
       "      <td>S01</td>\n",
       "      <td>final</td>\n",
       "      <td>First</td>\n",
       "    </tr>\n",
       "    <tr>\n",
       "      <th>3</th>\n",
       "      <td>0.024</td>\n",
       "      <td>4</td>\n",
       "      <td>S01</td>\n",
       "      <td>final</td>\n",
       "      <td>First</td>\n",
       "    </tr>\n",
       "    <tr>\n",
       "      <th>4</th>\n",
       "      <td>0.024</td>\n",
       "      <td>5</td>\n",
       "      <td>S01</td>\n",
       "      <td>final</td>\n",
       "      <td>First</td>\n",
       "    </tr>\n",
       "  </tbody>\n",
       "</table>\n",
       "</div>"
      ],
      "text/plain": [
       "     EDA  Time in mins Student_id   Exam Time Category\n",
       "0  0.040             1        S01  final         First\n",
       "1  0.024             2        S01  final         First\n",
       "2  0.024             3        S01  final         First\n",
       "3  0.024             4        S01  final         First\n",
       "4  0.024             5        S01  final         First"
      ]
     },
     "execution_count": 7,
     "metadata": {},
     "output_type": "execute_result"
    }
   ],
   "source": [
    "# Function to categorize time into three parts for each exam\n",
    "def categorize_time(df):\n",
    "    df = df.copy()\n",
    "    min_time = df[\"Time in mins\"].min()\n",
    "    max_time = df[\"Time in mins\"].max()\n",
    "    interval = (max_time - min_time) / 3\n",
    "\n",
    "    # Define time boundaries\n",
    "    first_part = min_time + interval\n",
    "    second_part = first_part + interval\n",
    "\n",
    "    # Assign categories based on time intervals\n",
    "    df[\"Time Category\"] = df[\"Time in mins\"].apply(\n",
    "        lambda x: \"First\" if x <= first_part else (\"Second\" if x <= second_part else \"Third\")\n",
    "    )\n",
    "    return df\n",
    "\n",
    "# Apply categorization to each exam separately\n",
    "eda_df_grouped = df_eda.groupby(\"Exam\", group_keys=False).apply(categorize_time)\n",
    "\n",
    "# Display the updated DataFrame with the new column\n",
    "eda_df_grouped.head()"
   ]
  },
  {
   "cell_type": "code",
   "execution_count": 8,
   "id": "54a41bb8",
   "metadata": {},
   "outputs": [
    {
     "name": "stdout",
     "output_type": "stream",
     "text": [
      "        EDA  Time in mins Student_id       Exam Time Category\n",
      "144   0.202           145        S01      final        Second\n",
      "145   0.199           146        S01      final        Second\n",
      "146   0.201           147        S01      final        Second\n",
      "147   0.199           148        S01      final        Second\n",
      "148   0.203           149        S01      final        Second\n",
      "...     ...           ...        ...        ...           ...\n",
      "7310  0.020           153       S010  midterm 2        Second\n",
      "7311  0.020           154       S010  midterm 2        Second\n",
      "7312  0.020           155       S010  midterm 2        Second\n",
      "7313  0.020           156       S010  midterm 2        Second\n",
      "7314  0.020           157       S010  midterm 2        Second\n",
      "\n",
      "[2804 rows x 5 columns]\n"
     ]
    }
   ],
   "source": [
    "second_part_df = eda_df_grouped[eda_df_grouped[\"Time Category\"] == \"Second\"]\n",
    "print(second_part_df)"
   ]
  },
  {
   "cell_type": "markdown",
   "id": "1e60cc81-ad58-42d1-a61d-0daa49ca3f4e",
   "metadata": {},
   "source": [
    "## 3. Based on the calculation in question 2, which part of the exam did students suffer maximum stress? You may assume that higher recorded skin conductance co-incides with high levels of stress"
   ]
  },
  {
   "cell_type": "code",
   "execution_count": 14,
   "id": "a16a0c77",
   "metadata": {},
   "outputs": [
    {
     "name": "stdout",
     "output_type": "stream",
     "text": [
      "Collecting scipy\n",
      "  Downloading scipy-1.15.1-cp311-cp311-win_amd64.whl (43.9 MB)\n",
      "     ---------------------------------------- 43.9/43.9 MB 3.1 MB/s eta 0:00:00\n",
      "Requirement already satisfied: numpy<2.5,>=1.23.5 in c:\\users\\hp\\appdata\\local\\programs\\python\\python311\\lib\\site-packages (from scipy) (2.2.2)\n",
      "Installing collected packages: scipy\n",
      "Successfully installed scipy-1.15.1\n",
      "Note: you may need to restart the kernel to use updated packages.\n"
     ]
    },
    {
     "name": "stderr",
     "output_type": "stream",
     "text": [
      "\n",
      "[notice] A new release of pip available: 22.3.1 -> 25.0\n",
      "[notice] To update, run: python.exe -m pip install --upgrade pip\n"
     ]
    }
   ],
   "source": [
    "pip install scipy"
   ]
  },
  {
   "cell_type": "code",
   "execution_count": 15,
   "id": "fa0ba5c6",
   "metadata": {},
   "outputs": [],
   "source": [
    "import pandas as pd\n",
    "import numpy as np\n",
    "import seaborn as sns\n",
    "import matplotlib.pyplot as plt\n",
    "from scipy import stats\n",
    "\n",
    "def analyze_stress_levels(df):\n",
    "    \"\"\"\n",
    "    Analyzes EDA (stress) levels across different exam periods\n",
    "    \n",
    "    Parameters:\n",
    "    df (pandas.DataFrame): DataFrame with 'EDA', 'Time_Period', 'Student_id', and 'Exam' columns\n",
    "    \n",
    "    Returns:\n",
    "    tuple: (DataFrame with summary statistics, DataFrame with statistical test results)\n",
    "    \"\"\"\n",
    "    # Calculate summary statistics for each period\n",
    "    summary_stats = df.groupby('Time_Period')['EDA'].agg([\n",
    "        'mean',\n",
    "        'median',\n",
    "        'std',\n",
    "        'count'\n",
    "    ]).round(2)\n",
    "    \n",
    "    # Perform one-way ANOVA to test if differences are significant\n",
    "    first_group = df[df['Time_Period'] == 'First']['EDA']\n",
    "    second_group = df[df['Time_Period'] == 'Second']['EDA']\n",
    "    third_group = df[df['Time_Period'] == 'Third']['EDA']\n",
    "    \n",
    "    f_stat, p_value = stats.f_oneway(first_group, second_group, third_group)\n",
    "    \n",
    "    # Create visualization\n",
    "    plt.figure(figsize=(10, 6))\n",
    "    sns.boxplot(x='Time_Period', y='EDA', data=df)\n",
    "    plt.title('Distribution of Stress Levels (EDA) Across Exam Periods')\n",
    "    plt.xlabel('Exam Period')\n",
    "    plt.ylabel('EDA (Stress Level)')\n",
    "    plt.show()\n",
    "    \n",
    "    # Perform pairwise t-tests\n",
    "    pairs = [('First', 'Second'), ('Second', 'Third'), ('First', 'Third')]\n",
    "    t_test_results = []\n",
    "    \n",
    "    for period1, period2 in pairs:\n",
    "        t_stat, p_val = stats.ttest_ind(\n",
    "            df[df['Time_Period'] == period1]['EDA'],\n",
    "            df[df['Time_Period'] == period2]['EDA']\n",
    "        )\n",
    "        t_test_results.append({\n",
    "            'Comparison': f'{period1} vs {period2}',\n",
    "            't_statistic': round(t_stat, 3),\n",
    "            'p_value': round(p_val, 4)\n",
    "        })\n",
    "    \n",
    "    t_test_df = pd.DataFrame(t_test_results)\n",
    "    \n",
    "    return summary_stats, t_test_df\n",
    "\n",
    "# Example usage:\n",
    "# result_df = group_exam_periods(eda_df)  # Using function from previous question\n",
    "# summary_stats, t_test_results = analyze_stress_levels(result_df)\n",
    "# print(\"\\nSummary Statistics:\")\n",
    "# print(summary_stats)\n",
    "# print(\"\\nPairwise T-Test Results:\")\n",
    "# print(t_test_results)"
   ]
  },
  {
   "cell_type": "markdown",
   "id": "0b278110-80f7-4645-a0e8-f8ae363ddbc8",
   "metadata": {},
   "source": [
    "## 4. Using Root Mean Square of Successive differences calculated in Q1, calculate and store HRV per exam for every student. "
   ]
  },
  {
   "cell_type": "markdown",
   "id": "4452decb-faad-452b-bdf9-e38bb8061b11",
   "metadata": {},
   "source": [
    "### A higher HRV indicates greater adaptability and health, while a lower HRV is associated with stress, fatigue, and even burnout. We need to calculate the Standard Deviation of HRV and compare with all HRV values to reach at lower HRVs. Students with these lower HRVs have higher stress."
   ]
  },
  {
   "cell_type": "code",
   "execution_count": 10,
   "id": "ff373d45",
   "metadata": {},
   "outputs": [
    {
     "name": "stdout",
     "output_type": "stream",
     "text": [
      "Students with lower HRVs (higher stress): ['S08']\n"
     ]
    }
   ],
   "source": [
    "# Calculate HRV for each student per exam (using RMSSD values)\n",
    "# We will use RMSSD as the HRV\n",
    "df_ibi[\"HRV\"] = df_ibi[\"RMSSD\"]\n",
    "\n",
    "# Calculate standard deviation of HRV for each student across exams\n",
    "std_hrv = df_ibi.groupby(\"Student_id\")[\"HRV\"].std()\n",
    "\n",
    "# Compare HRV with standard deviation to identify lower HRVs (higher stress)\n",
    "lower_hrv_threshold = std_hrv.mean() - std_hrv.std()  # Set a threshold for lower HRVs\n",
    "students_with_lower_hrv = std_hrv[std_hrv < lower_hrv_threshold].index.tolist()\n",
    "\n",
    "# Print the students with lower HRVs (higher stress)\n",
    "print(f\"Students with lower HRVs (higher stress): {students_with_lower_hrv}\")"
   ]
  },
  {
   "cell_type": "markdown",
   "id": "8d4c68dc-9eff-4c0d-85ba-4abc8b960d60",
   "metadata": {},
   "source": [
    "## 5. Join all tables to produce one file that contains all student 1's readings for IBI, EDA , HR and temp"
   ]
  },
  {
   "cell_type": "code",
   "execution_count": 11,
   "id": "3fc935ca",
   "metadata": {},
   "outputs": [],
   "source": [
    "import pandas as pd\n",
    "\n",
    "# Load all sheets from the Excel file\n",
    "file_path = \"Exam Stress Final.xlsx\"\n",
    "sheets_dict = pd.read_excel(file_path, sheet_name=None)  # Load all sheets"
   ]
  },
  {
   "cell_type": "code",
   "execution_count": 12,
   "id": "17487062",
   "metadata": {},
   "outputs": [
    {
     "ename": "MergeError",
     "evalue": "Passing 'suffixes' which cause duplicate columns {'Student_id_x', 'Exam_x'} is not allowed.",
     "output_type": "error",
     "traceback": [
      "\u001b[1;31m---------------------------------------------------------------------------\u001b[0m",
      "\u001b[1;31mMergeError\u001b[0m                                Traceback (most recent call last)",
      "Cell \u001b[1;32mIn[12], line 3\u001b[0m\n\u001b[0;32m      1\u001b[0m \u001b[38;5;66;03m# Merge all relevant sheets on 'Time' or a common column\u001b[39;00m\n\u001b[0;32m      2\u001b[0m df_merged \u001b[38;5;241m=\u001b[39m \u001b[43msheets_dict\u001b[49m\u001b[43m[\u001b[49m\u001b[38;5;124;43m'\u001b[39;49m\u001b[38;5;124;43mEDA\u001b[39;49m\u001b[38;5;124;43m'\u001b[39;49m\u001b[43m]\u001b[49m\u001b[38;5;241;43m.\u001b[39;49m\u001b[43mmerge\u001b[49m\u001b[43m(\u001b[49m\u001b[43msheets_dict\u001b[49m\u001b[43m[\u001b[49m\u001b[38;5;124;43m'\u001b[39;49m\u001b[38;5;124;43mIBI\u001b[39;49m\u001b[38;5;124;43m'\u001b[39;49m\u001b[43m]\u001b[49m\u001b[43m,\u001b[49m\u001b[43m \u001b[49m\u001b[43mon\u001b[49m\u001b[38;5;241;43m=\u001b[39;49m\u001b[38;5;124;43m\"\u001b[39;49m\u001b[38;5;124;43mTime in mins\u001b[39;49m\u001b[38;5;124;43m\"\u001b[39;49m\u001b[43m)\u001b[49m\u001b[38;5;241;43m.\u001b[39;49m\u001b[43mmerge\u001b[49m\u001b[43m(\u001b[49m\n\u001b[1;32m----> 3\u001b[0m \u001b[43m    \u001b[49m\u001b[43msheets_dict\u001b[49m\u001b[43m[\u001b[49m\u001b[38;5;124;43m'\u001b[39;49m\u001b[38;5;124;43mHR\u001b[39;49m\u001b[38;5;124;43m'\u001b[39;49m\u001b[43m]\u001b[49m\u001b[43m,\u001b[49m\u001b[43m \u001b[49m\u001b[43mon\u001b[49m\u001b[38;5;241;43m=\u001b[39;49m\u001b[38;5;124;43m\"\u001b[39;49m\u001b[38;5;124;43mTime in mins\u001b[39;49m\u001b[38;5;124;43m\"\u001b[39;49m\u001b[43m)\u001b[49m\u001b[38;5;241;43m.\u001b[39;49m\u001b[43mmerge\u001b[49m\u001b[43m(\u001b[49m\n\u001b[0;32m      4\u001b[0m \u001b[43m    \u001b[49m\u001b[43msheets_dict\u001b[49m\u001b[43m[\u001b[49m\u001b[38;5;124;43m'\u001b[39;49m\u001b[38;5;124;43mTemp\u001b[39;49m\u001b[38;5;124;43m'\u001b[39;49m\u001b[43m]\u001b[49m\u001b[43m,\u001b[49m\u001b[43m \u001b[49m\u001b[43mon\u001b[49m\u001b[38;5;241;43m=\u001b[39;49m\u001b[38;5;124;43m\"\u001b[39;49m\u001b[38;5;124;43mTime in mins\u001b[39;49m\u001b[38;5;124;43m\"\u001b[39;49m\u001b[43m)\u001b[49m\n",
      "File \u001b[1;32mc:\\Users\\HP\\AppData\\Local\\Programs\\Python\\Python311\\Lib\\site-packages\\pandas\\core\\frame.py:10832\u001b[0m, in \u001b[0;36mDataFrame.merge\u001b[1;34m(self, right, how, on, left_on, right_on, left_index, right_index, sort, suffixes, copy, indicator, validate)\u001b[0m\n\u001b[0;32m  10813\u001b[0m \u001b[38;5;129m@Substitution\u001b[39m(\u001b[38;5;124m\"\u001b[39m\u001b[38;5;124m\"\u001b[39m)\n\u001b[0;32m  10814\u001b[0m \u001b[38;5;129m@Appender\u001b[39m(_merge_doc, indents\u001b[38;5;241m=\u001b[39m\u001b[38;5;241m2\u001b[39m)\n\u001b[0;32m  10815\u001b[0m \u001b[38;5;28;01mdef\u001b[39;00m \u001b[38;5;21mmerge\u001b[39m(\n\u001b[1;32m   (...)\u001b[0m\n\u001b[0;32m  10828\u001b[0m     validate: MergeValidate \u001b[38;5;241m|\u001b[39m \u001b[38;5;28;01mNone\u001b[39;00m \u001b[38;5;241m=\u001b[39m \u001b[38;5;28;01mNone\u001b[39;00m,\n\u001b[0;32m  10829\u001b[0m ) \u001b[38;5;241m-\u001b[39m\u001b[38;5;241m>\u001b[39m DataFrame:\n\u001b[0;32m  10830\u001b[0m     \u001b[38;5;28;01mfrom\u001b[39;00m \u001b[38;5;21;01mpandas\u001b[39;00m\u001b[38;5;21;01m.\u001b[39;00m\u001b[38;5;21;01mcore\u001b[39;00m\u001b[38;5;21;01m.\u001b[39;00m\u001b[38;5;21;01mreshape\u001b[39;00m\u001b[38;5;21;01m.\u001b[39;00m\u001b[38;5;21;01mmerge\u001b[39;00m \u001b[38;5;28;01mimport\u001b[39;00m merge\n\u001b[1;32m> 10832\u001b[0m     \u001b[38;5;28;01mreturn\u001b[39;00m \u001b[43mmerge\u001b[49m\u001b[43m(\u001b[49m\n\u001b[0;32m  10833\u001b[0m \u001b[43m        \u001b[49m\u001b[38;5;28;43mself\u001b[39;49m\u001b[43m,\u001b[49m\n\u001b[0;32m  10834\u001b[0m \u001b[43m        \u001b[49m\u001b[43mright\u001b[49m\u001b[43m,\u001b[49m\n\u001b[0;32m  10835\u001b[0m \u001b[43m        \u001b[49m\u001b[43mhow\u001b[49m\u001b[38;5;241;43m=\u001b[39;49m\u001b[43mhow\u001b[49m\u001b[43m,\u001b[49m\n\u001b[0;32m  10836\u001b[0m \u001b[43m        \u001b[49m\u001b[43mon\u001b[49m\u001b[38;5;241;43m=\u001b[39;49m\u001b[43mon\u001b[49m\u001b[43m,\u001b[49m\n\u001b[0;32m  10837\u001b[0m \u001b[43m        \u001b[49m\u001b[43mleft_on\u001b[49m\u001b[38;5;241;43m=\u001b[39;49m\u001b[43mleft_on\u001b[49m\u001b[43m,\u001b[49m\n\u001b[0;32m  10838\u001b[0m \u001b[43m        \u001b[49m\u001b[43mright_on\u001b[49m\u001b[38;5;241;43m=\u001b[39;49m\u001b[43mright_on\u001b[49m\u001b[43m,\u001b[49m\n\u001b[0;32m  10839\u001b[0m \u001b[43m        \u001b[49m\u001b[43mleft_index\u001b[49m\u001b[38;5;241;43m=\u001b[39;49m\u001b[43mleft_index\u001b[49m\u001b[43m,\u001b[49m\n\u001b[0;32m  10840\u001b[0m \u001b[43m        \u001b[49m\u001b[43mright_index\u001b[49m\u001b[38;5;241;43m=\u001b[39;49m\u001b[43mright_index\u001b[49m\u001b[43m,\u001b[49m\n\u001b[0;32m  10841\u001b[0m \u001b[43m        \u001b[49m\u001b[43msort\u001b[49m\u001b[38;5;241;43m=\u001b[39;49m\u001b[43msort\u001b[49m\u001b[43m,\u001b[49m\n\u001b[0;32m  10842\u001b[0m \u001b[43m        \u001b[49m\u001b[43msuffixes\u001b[49m\u001b[38;5;241;43m=\u001b[39;49m\u001b[43msuffixes\u001b[49m\u001b[43m,\u001b[49m\n\u001b[0;32m  10843\u001b[0m \u001b[43m        \u001b[49m\u001b[43mcopy\u001b[49m\u001b[38;5;241;43m=\u001b[39;49m\u001b[43mcopy\u001b[49m\u001b[43m,\u001b[49m\n\u001b[0;32m  10844\u001b[0m \u001b[43m        \u001b[49m\u001b[43mindicator\u001b[49m\u001b[38;5;241;43m=\u001b[39;49m\u001b[43mindicator\u001b[49m\u001b[43m,\u001b[49m\n\u001b[0;32m  10845\u001b[0m \u001b[43m        \u001b[49m\u001b[43mvalidate\u001b[49m\u001b[38;5;241;43m=\u001b[39;49m\u001b[43mvalidate\u001b[49m\u001b[43m,\u001b[49m\n\u001b[0;32m  10846\u001b[0m \u001b[43m    \u001b[49m\u001b[43m)\u001b[49m\n",
      "File \u001b[1;32mc:\\Users\\HP\\AppData\\Local\\Programs\\Python\\Python311\\Lib\\site-packages\\pandas\\core\\reshape\\merge.py:184\u001b[0m, in \u001b[0;36mmerge\u001b[1;34m(left, right, how, on, left_on, right_on, left_index, right_index, sort, suffixes, copy, indicator, validate)\u001b[0m\n\u001b[0;32m    169\u001b[0m \u001b[38;5;28;01melse\u001b[39;00m:\n\u001b[0;32m    170\u001b[0m     op \u001b[38;5;241m=\u001b[39m _MergeOperation(\n\u001b[0;32m    171\u001b[0m         left_df,\n\u001b[0;32m    172\u001b[0m         right_df,\n\u001b[1;32m   (...)\u001b[0m\n\u001b[0;32m    182\u001b[0m         validate\u001b[38;5;241m=\u001b[39mvalidate,\n\u001b[0;32m    183\u001b[0m     )\n\u001b[1;32m--> 184\u001b[0m     \u001b[38;5;28;01mreturn\u001b[39;00m \u001b[43mop\u001b[49m\u001b[38;5;241;43m.\u001b[39;49m\u001b[43mget_result\u001b[49m\u001b[43m(\u001b[49m\u001b[43mcopy\u001b[49m\u001b[38;5;241;43m=\u001b[39;49m\u001b[43mcopy\u001b[49m\u001b[43m)\u001b[49m\n",
      "File \u001b[1;32mc:\\Users\\HP\\AppData\\Local\\Programs\\Python\\Python311\\Lib\\site-packages\\pandas\\core\\reshape\\merge.py:888\u001b[0m, in \u001b[0;36m_MergeOperation.get_result\u001b[1;34m(self, copy)\u001b[0m\n\u001b[0;32m    884\u001b[0m     \u001b[38;5;28mself\u001b[39m\u001b[38;5;241m.\u001b[39mleft, \u001b[38;5;28mself\u001b[39m\u001b[38;5;241m.\u001b[39mright \u001b[38;5;241m=\u001b[39m \u001b[38;5;28mself\u001b[39m\u001b[38;5;241m.\u001b[39m_indicator_pre_merge(\u001b[38;5;28mself\u001b[39m\u001b[38;5;241m.\u001b[39mleft, \u001b[38;5;28mself\u001b[39m\u001b[38;5;241m.\u001b[39mright)\n\u001b[0;32m    886\u001b[0m join_index, left_indexer, right_indexer \u001b[38;5;241m=\u001b[39m \u001b[38;5;28mself\u001b[39m\u001b[38;5;241m.\u001b[39m_get_join_info()\n\u001b[1;32m--> 888\u001b[0m result \u001b[38;5;241m=\u001b[39m \u001b[38;5;28;43mself\u001b[39;49m\u001b[38;5;241;43m.\u001b[39;49m\u001b[43m_reindex_and_concat\u001b[49m\u001b[43m(\u001b[49m\n\u001b[0;32m    889\u001b[0m \u001b[43m    \u001b[49m\u001b[43mjoin_index\u001b[49m\u001b[43m,\u001b[49m\u001b[43m \u001b[49m\u001b[43mleft_indexer\u001b[49m\u001b[43m,\u001b[49m\u001b[43m \u001b[49m\u001b[43mright_indexer\u001b[49m\u001b[43m,\u001b[49m\u001b[43m \u001b[49m\u001b[43mcopy\u001b[49m\u001b[38;5;241;43m=\u001b[39;49m\u001b[43mcopy\u001b[49m\n\u001b[0;32m    890\u001b[0m \u001b[43m\u001b[49m\u001b[43m)\u001b[49m\n\u001b[0;32m    891\u001b[0m result \u001b[38;5;241m=\u001b[39m result\u001b[38;5;241m.\u001b[39m__finalize__(\u001b[38;5;28mself\u001b[39m, method\u001b[38;5;241m=\u001b[39m\u001b[38;5;28mself\u001b[39m\u001b[38;5;241m.\u001b[39m_merge_type)\n\u001b[0;32m    893\u001b[0m \u001b[38;5;28;01mif\u001b[39;00m \u001b[38;5;28mself\u001b[39m\u001b[38;5;241m.\u001b[39mindicator:\n",
      "File \u001b[1;32mc:\\Users\\HP\\AppData\\Local\\Programs\\Python\\Python311\\Lib\\site-packages\\pandas\\core\\reshape\\merge.py:840\u001b[0m, in \u001b[0;36m_MergeOperation._reindex_and_concat\u001b[1;34m(self, join_index, left_indexer, right_indexer, copy)\u001b[0m\n\u001b[0;32m    837\u001b[0m left \u001b[38;5;241m=\u001b[39m \u001b[38;5;28mself\u001b[39m\u001b[38;5;241m.\u001b[39mleft[:]\n\u001b[0;32m    838\u001b[0m right \u001b[38;5;241m=\u001b[39m \u001b[38;5;28mself\u001b[39m\u001b[38;5;241m.\u001b[39mright[:]\n\u001b[1;32m--> 840\u001b[0m llabels, rlabels \u001b[38;5;241m=\u001b[39m \u001b[43m_items_overlap_with_suffix\u001b[49m\u001b[43m(\u001b[49m\n\u001b[0;32m    841\u001b[0m \u001b[43m    \u001b[49m\u001b[38;5;28;43mself\u001b[39;49m\u001b[38;5;241;43m.\u001b[39;49m\u001b[43mleft\u001b[49m\u001b[38;5;241;43m.\u001b[39;49m\u001b[43m_info_axis\u001b[49m\u001b[43m,\u001b[49m\u001b[43m \u001b[49m\u001b[38;5;28;43mself\u001b[39;49m\u001b[38;5;241;43m.\u001b[39;49m\u001b[43mright\u001b[49m\u001b[38;5;241;43m.\u001b[39;49m\u001b[43m_info_axis\u001b[49m\u001b[43m,\u001b[49m\u001b[43m \u001b[49m\u001b[38;5;28;43mself\u001b[39;49m\u001b[38;5;241;43m.\u001b[39;49m\u001b[43msuffixes\u001b[49m\n\u001b[0;32m    842\u001b[0m \u001b[43m\u001b[49m\u001b[43m)\u001b[49m\n\u001b[0;32m    844\u001b[0m \u001b[38;5;28;01mif\u001b[39;00m left_indexer \u001b[38;5;129;01mis\u001b[39;00m \u001b[38;5;129;01mnot\u001b[39;00m \u001b[38;5;28;01mNone\u001b[39;00m \u001b[38;5;129;01mand\u001b[39;00m \u001b[38;5;129;01mnot\u001b[39;00m is_range_indexer(left_indexer, \u001b[38;5;28mlen\u001b[39m(left)):\n\u001b[0;32m    845\u001b[0m     \u001b[38;5;66;03m# Pinning the index here (and in the right code just below) is not\u001b[39;00m\n\u001b[0;32m    846\u001b[0m     \u001b[38;5;66;03m#  necessary, but makes the `.take` more performant if we have e.g.\u001b[39;00m\n\u001b[0;32m    847\u001b[0m     \u001b[38;5;66;03m#  a MultiIndex for left.index.\u001b[39;00m\n\u001b[0;32m    848\u001b[0m     lmgr \u001b[38;5;241m=\u001b[39m left\u001b[38;5;241m.\u001b[39m_mgr\u001b[38;5;241m.\u001b[39mreindex_indexer(\n\u001b[0;32m    849\u001b[0m         join_index,\n\u001b[0;32m    850\u001b[0m         left_indexer,\n\u001b[1;32m   (...)\u001b[0m\n\u001b[0;32m    855\u001b[0m         use_na_proxy\u001b[38;5;241m=\u001b[39m\u001b[38;5;28;01mTrue\u001b[39;00m,\n\u001b[0;32m    856\u001b[0m     )\n",
      "File \u001b[1;32mc:\\Users\\HP\\AppData\\Local\\Programs\\Python\\Python311\\Lib\\site-packages\\pandas\\core\\reshape\\merge.py:2757\u001b[0m, in \u001b[0;36m_items_overlap_with_suffix\u001b[1;34m(left, right, suffixes)\u001b[0m\n\u001b[0;32m   2755\u001b[0m     dups\u001b[38;5;241m.\u001b[39mextend(rlabels[(rlabels\u001b[38;5;241m.\u001b[39mduplicated()) \u001b[38;5;241m&\u001b[39m (\u001b[38;5;241m~\u001b[39mright\u001b[38;5;241m.\u001b[39mduplicated())]\u001b[38;5;241m.\u001b[39mtolist())\n\u001b[0;32m   2756\u001b[0m \u001b[38;5;28;01mif\u001b[39;00m dups:\n\u001b[1;32m-> 2757\u001b[0m     \u001b[38;5;28;01mraise\u001b[39;00m MergeError(\n\u001b[0;32m   2758\u001b[0m         \u001b[38;5;124mf\u001b[39m\u001b[38;5;124m\"\u001b[39m\u001b[38;5;124mPassing \u001b[39m\u001b[38;5;124m'\u001b[39m\u001b[38;5;124msuffixes\u001b[39m\u001b[38;5;124m'\u001b[39m\u001b[38;5;124m which cause duplicate columns \u001b[39m\u001b[38;5;132;01m{\u001b[39;00m\u001b[38;5;28mset\u001b[39m(dups)\u001b[38;5;132;01m}\u001b[39;00m\u001b[38;5;124m is \u001b[39m\u001b[38;5;124m\"\u001b[39m\n\u001b[0;32m   2759\u001b[0m         \u001b[38;5;124mf\u001b[39m\u001b[38;5;124m\"\u001b[39m\u001b[38;5;124mnot allowed.\u001b[39m\u001b[38;5;124m\"\u001b[39m,\n\u001b[0;32m   2760\u001b[0m     )\n\u001b[0;32m   2762\u001b[0m \u001b[38;5;28;01mreturn\u001b[39;00m llabels, rlabels\n",
      "\u001b[1;31mMergeError\u001b[0m: Passing 'suffixes' which cause duplicate columns {'Student_id_x', 'Exam_x'} is not allowed."
     ]
    }
   ],
   "source": [
    "# Merge all relevant sheets on 'Time' or a common column\n",
    "df_merged = sheets_dict['EDA'].merge(sheets_dict['IBI'], on=\"Time in mins\").merge(\n",
    "    sheets_dict['HR'], on=\"Time in mins\").merge(\n",
    "    sheets_dict['Temp'], on=\"Time in mins\")"
   ]
  },
  {
   "cell_type": "code",
   "execution_count": null,
   "id": "73cd72e3",
   "metadata": {},
   "outputs": [],
   "source": []
  },
  {
   "cell_type": "markdown",
   "id": "6993768c-4968-4645-8115-d13f0b741902",
   "metadata": {},
   "source": [
    "## 6. Calculate the age and Display Age and drop the Date of Birth with  iteratively.  (Replace DOB for other questions when complete)"
   ]
  },
  {
   "cell_type": "markdown",
   "id": "509082c8-95d1-4f6f-9169-f1bc4f7a2aff",
   "metadata": {},
   "source": [
    "## 7. Using numpy functions, transpose and multiply the following arrays\n",
    "#### a=np.arange(4).reshape(2,2)\n",
    "#### b=np.arange(6).reshape(3,2) "
   ]
  },
  {
   "cell_type": "markdown",
   "id": "7453b1f4",
   "metadata": {},
   "source": [
    "Transposing is necessary to match the number of columns of the first array to the number of rows of the second array. Without transposing in this case, number of columns of first (2) does not match the number of rows (3) in the second. That is why, we are transposing first. After transposing, (2) of first is equal to (2) of second. "
   ]
  },
  {
   "cell_type": "code",
   "execution_count": 5,
   "id": "f402bc16",
   "metadata": {},
   "outputs": [
    {
     "name": "stdout",
     "output_type": "stream",
     "text": [
      "[[ 1  3  5]\n",
      " [ 3 13 23]]\n"
     ]
    }
   ],
   "source": [
    "import numpy as np\n",
    "\n",
    "# Define the first array a with values from 0 to 3, reshaped into a 2x2 matrix\n",
    "a = np.arange(4).reshape(2, 2)\n",
    "\n",
    "# Define the second array b with values from 0 to 5, reshaped into a 3x2 matrix\n",
    "b = np.arange(6).reshape(3, 2)\n",
    "\n",
    "# Transpose matrix b to make it compatible for matrix multiplication\n",
    "b_T = b.T  # Now b_T is a 2x3 matrix\n",
    "\n",
    "# Perform matrix multiplication between a (2x2) and b_T (2x3)\n",
    "result = np.dot(a, b_T)\n",
    "\n",
    "# Display the result\n",
    "print(result)\n"
   ]
  },
  {
   "cell_type": "markdown",
   "id": "5ad486ed-38c8-4c42-bb27-ba2f1e36953d",
   "metadata": {},
   "source": [
    "## 8. Write a Python program to create an array of 5 integers and display the array items in reverse order"
   ]
  },
  {
   "cell_type": "markdown",
   "id": "77d0bf26",
   "metadata": {},
   "source": [
    "Slicing is used to reverse the array. The slicing notation in python is arr[start:stop:step]. start is the index where slicing begin (default is first element), stop is index where slicing stops (default is last element) and step is the interval between elements (default is 1). ::1 means select elements from start to end, one stop at a time (10 20 30 40 50). ::2 means select every second elemet (10 30 50). "
   ]
  },
  {
   "cell_type": "code",
   "execution_count": 6,
   "id": "da206a68",
   "metadata": {},
   "outputs": [
    {
     "name": "stdout",
     "output_type": "stream",
     "text": [
      "Reversed Array: [50 40 30 20 10]\n"
     ]
    }
   ],
   "source": [
    "import numpy as np  # Import the NumPy library\n",
    "\n",
    "# Create a NumPy array with 5 integers\n",
    "arr = np.array([10, 20, 30, 40, 50])\n",
    "\n",
    "# Reverse the array using slicing\n",
    "reversed_arr = arr[::-1]\n",
    "\n",
    "# Print the reversed array\n",
    "print(\"Reversed Array:\", reversed_arr)"
   ]
  },
  {
   "cell_type": "markdown",
   "id": "26f17e33-8ede-4beb-a012-89349f39fff9",
   "metadata": {},
   "source": [
    "## 9. What was the average grade for all students in the final exam vs both midterms"
   ]
  },
  {
   "cell_type": "markdown",
   "id": "d4c354c4",
   "metadata": {},
   "source": [
    "We are using axis=1 because we need to calculate the average of midterm 1 and 2 of each student. So we need to calculate the values of each row. If we dont give anything or if we give axis=0, then it will calculate the average of the columns which is not required here. "
   ]
  },
  {
   "cell_type": "code",
   "execution_count": 7,
   "id": "d4490377",
   "metadata": {},
   "outputs": [
    {
     "name": "stdout",
     "output_type": "stream",
     "text": [
      "Average Final Exam Score: 156.7\n",
      "Average Midterms Score: 73.7\n"
     ]
    }
   ],
   "source": [
    "# Calculate the average grade for the final exam\n",
    "avg_final = df[\"final\"].mean()\n",
    "\n",
    "# Calculate the average of both midterms\n",
    "avg_midterms = df[[\"Midterm 1\", \"Midterm 2\"]].mean(axis=1).mean()\n",
    "\n",
    "print(\"Average Final Exam Score:\", avg_final)\n",
    "print(\"Average Midterms Score:\", avg_midterms)"
   ]
  },
  {
   "cell_type": "markdown",
   "id": "7ce256e1-cb7d-434c-b40a-39e85a155cb8",
   "metadata": {},
   "source": [
    "## 10. Which students basal body temperature was highest during the second part of the exam?"
   ]
  },
  {
   "cell_type": "markdown",
   "id": "9cd1f956-6b68-4ae3-9340-9111e86bff9f",
   "metadata": {},
   "source": [
    "## 11. What are the top 3 grades in the final exam? What % of the top 3 grades belonged to males vs females? "
   ]
  },
  {
   "cell_type": "markdown",
   "id": "ed5ea88d",
   "metadata": {},
   "source": [
    "First we are creating a dataframe called grades to get the final grades and a dataframe called demography to get the gender. We are doing this because grades is in one sheet and then gender is in another sheet. Then we are merging both of them on student_id which is common for both sheets. We are then getting the top 3 grades. From the top 3 grades, we are getting the value counts of the gender column. Without normalization, we will get the raw absolute count like M 3 and F 2. If we use normalize function, we will get the proportion or percentage of each category, so in this case M 0.6 and F 0.4. We then multiply this by 100 to get the percentage. The purpose of normalizing is to convert raw counts into percentages to easily understand the proportion of males vs females. "
   ]
  },
  {
   "cell_type": "code",
   "execution_count": 11,
   "id": "d45b31f7",
   "metadata": {},
   "outputs": [
    {
     "name": "stdout",
     "output_type": "stream",
     "text": [
      "Top 3 grades in the final exam:\n",
      "  Student_id First Name Last Name  final\n",
      "2        S03    Gabriel   Willows    188\n",
      "7        S08       John     Wills    184\n",
      "0        S01    Barbara   Walters    182\n",
      "\n",
      "Percentage of top 3 grades by gender:\n",
      "Gender\n",
      "F    66.666667\n",
      "M    33.333333\n",
      "Name: proportion, dtype: float64\n"
     ]
    }
   ],
   "source": [
    "import pandas as pd\n",
    "\n",
    "# Load the data from both sheets\n",
    "grades_df = pd.read_excel(\"Exam Stress Final.xlsx\", sheet_name=\"Grades\")\n",
    "demography_df = pd.read_excel(\"Exam Stress Final.xlsx\", sheet_name=\"Demography\")\n",
    "\n",
    "# Merge both sheets on \"Student_id\"\n",
    "df = pd.merge(grades_df, demography_df, on=\"Student_id\")\n",
    "\n",
    "# Get the top 3 highest grades in the final exam\n",
    "top_3_grades = df.nlargest(3, \"final\")\n",
    "\n",
    "# Count the percentage of males vs. females in the top 3\n",
    "gender_counts = top_3_grades[\"Gender\"].value_counts(normalize=True) * 100\n",
    "\n",
    "# Display results\n",
    "print(\"Top 3 grades in the final exam:\")\n",
    "print(top_3_grades[[\"Student_id\", \"First Name\", \"Last Name\", \"final\"]])\n",
    "\n",
    "print(\"\\nPercentage of top 3 grades by gender:\")\n",
    "print(gender_counts)\n"
   ]
  },
  {
   "cell_type": "markdown",
   "id": "e8744d38-8c4c-4b43-8787-3cbcc11e0dbc",
   "metadata": {},
   "source": [
    "## 12. phonebook={\"john\":938477566,\"Jack\":938377264,\"Jill\":947662781}  ,find the phone number of Joe"
   ]
  },
  {
   "cell_type": "markdown",
   "id": "95f9497b-3427-4c50-8e83-01d108763d57",
   "metadata": {},
   "source": [
    "## 13. How many minutes did the midterm 2 last( on average) for all 10 students"
   ]
  },
  {
   "cell_type": "code",
   "execution_count": 4,
   "id": "46b42142",
   "metadata": {},
   "outputs": [
    {
     "name": "stdout",
     "output_type": "stream",
     "text": [
      "The average duration of midterm 2 is: 102.62810327706057 minutes.\n"
     ]
    }
   ],
   "source": [
    "EDA_df = pd.read_excel(\"Exam Stress Final.xlsx\", sheet_name=\"EDA\")\n",
    "# Filter the data for midterm 2\n",
    "midterm_2_df = EDA_df[EDA_df['Exam'] == 'midterm 2']\n",
    "\n",
    "# Calculate the average time in minutes\n",
    "average_time_midterm_2 = midterm_2_df['Time in mins'].mean()\n",
    "\n",
    "print(\"The average duration of midterm 2 is:\", average_time_midterm_2, \"minutes.\")"
   ]
  },
  {
   "cell_type": "markdown",
   "id": "977a9a4d-34f7-40af-942c-7aa7664cf5e3",
   "metadata": {},
   "source": [
    "## 14. Analyze the trend of body temp at the start of the exam. Were body temperatures higher or lower in the first part of the exam. What is the overall trend?"
   ]
  },
  {
   "cell_type": "markdown",
   "id": "581bde21",
   "metadata": {},
   "source": [
    "we first calculate the maximum time in minutes in order to split the time. Then we split the time, with early having temp less than or equal to 1/3rd of the max time, middle having temp greater than 1/3 and less than or equal to 2/3, late having temp greater than 2/3. After this, we calculate the average time for each and print the results. We analyse the trend next saying if early is higher than middle and middle is higher than late, then body temp decreases, if its the opposite then the body temp increases. "
   ]
  },
  {
   "cell_type": "code",
   "execution_count": 5,
   "id": "ca2df81c",
   "metadata": {},
   "outputs": [
    {
     "name": "stdout",
     "output_type": "stream",
     "text": [
      "Average body temperature in the early part of the exam (0–66 mins): 28.629416083916084\n",
      "Average body temperature in the middle part of the exam (67–133 mins): 25.934906890894176\n",
      "Average body temperature in the late part of the exam (134–200 mins): 23.10197678018576\n",
      "Overall trend: Body temperatures decrease as the exam progresses.\n"
     ]
    }
   ],
   "source": [
    "# Load the data\n",
    "Temp_df = pd.read_excel(\"Exam Stress Final.xlsx\", sheet_name=\"Temp\")\n",
    "\n",
    "# Define the segments\n",
    "exam_duration_max = Temp_df['Time in mins'].max()\n",
    "\n",
    "early_exam_df = Temp_df[Temp_df['Time in mins'] <= exam_duration_max / 3]\n",
    "middle_exam_df = Temp_df[(Temp_df['Time in mins'] > exam_duration_max / 3) & (Temp_df['Time in mins'] <= 2 * exam_duration_max / 3)]\n",
    "late_exam_df = Temp_df[Temp_df['Time in mins'] > 2 * exam_duration_max / 3]\n",
    "\n",
    "# Calculate average body temperatures for each segment\n",
    "average_temp_early = early_exam_df['TEMP'].mean()\n",
    "average_temp_middle = middle_exam_df['TEMP'].mean()\n",
    "average_temp_late = late_exam_df['TEMP'].mean()\n",
    "\n",
    "# Print out the results\n",
    "print(f\"Average body temperature in the early part of the exam (0–66 mins): {average_temp_early}\")\n",
    "print(f\"Average body temperature in the middle part of the exam (67–133 mins): {average_temp_middle}\")\n",
    "print(f\"Average body temperature in the late part of the exam (134–200 mins): {average_temp_late}\")\n",
    "\n",
    "# Analyze the overall trend\n",
    "if average_temp_early > average_temp_middle and average_temp_middle > average_temp_late:\n",
    "    print(\"Overall trend: Body temperatures decrease as the exam progresses.\")\n",
    "elif average_temp_early < average_temp_middle and average_temp_middle < average_temp_late:\n",
    "    print(\"Overall trend: Body temperatures increase as the exam progresses.\")\n",
    "else:\n",
    "    print(\"Overall trend: Body temperatures fluctuate during the exam.\")"
   ]
  },
  {
   "cell_type": "markdown",
   "id": "da49bf3d-5274-4792-a28c-2a1f148d77fb",
   "metadata": {},
   "source": [
    "## 15.What % of all students had a HR>80 and an HRV<30 in the second part of the finals?"
   ]
  },
  {
   "cell_type": "markdown",
   "id": "09538a86-fc4f-4922-8ca8-a1476271f0cc",
   "metadata": {},
   "source": [
    "## 16. What was the % difference between scores in both mid-terms vs the final"
   ]
  },
  {
   "cell_type": "code",
   "execution_count": 11,
   "id": "cfc9f201",
   "metadata": {},
   "outputs": [
    {
     "name": "stdout",
     "output_type": "stream",
     "text": [
      "The percentage difference between the average of both midterms and the final exam is 112.62%.\n"
     ]
    }
   ],
   "source": [
    "# Load the Grades data\n",
    "grades_df = pd.read_excel(\"Exam Stress Final.xlsx\", sheet_name=\"Grades\")\n",
    "\n",
    "# Calculate the average scores for midterms and final\n",
    "avg_midterms = (grades_df[\"Midterm 1\"].mean() + grades_df[\"Midterm 2\"].mean()) / 2\n",
    "avg_final = grades_df[\"final\"].mean()\n",
    "\n",
    "# Calculate the percentage difference between midterms and final scores\n",
    "percentage_difference = ((avg_final - avg_midterms) / avg_midterms) * 100\n",
    "\n",
    "# Print the result\n",
    "print(f\"The percentage difference between the average of both midterms and the final exam is {percentage_difference:.2f}%.\")"
   ]
  },
  {
   "cell_type": "markdown",
   "id": "0ebaee1c-508a-446c-88b4-02ec5ed0bd3c",
   "metadata": {},
   "source": [
    "## 17. What % of all students are Asian?"
   ]
  },
  {
   "cell_type": "code",
   "execution_count": 13,
   "id": "c80df8c1",
   "metadata": {},
   "outputs": [
    {
     "name": "stdout",
     "output_type": "stream",
     "text": [
      "20.00% of all students are Asian.\n"
     ]
    }
   ],
   "source": [
    "# Load the demography data\n",
    "demography_df = pd.read_excel(\"Exam Stress Final.xlsx\", sheet_name=\"Demography\")\n",
    "\n",
    "# Count the number of Asian students\n",
    "asian_students = demography_df[demography_df[\"Race\"] == \"Asian\"][\"Student_id\"].nunique()\n",
    "\n",
    "# Calculate the total number of students\n",
    "total_students = demography_df[\"Student_id\"].nunique()\n",
    "\n",
    "# Calculate the percentage of Asian students\n",
    "percentage_asian = (asian_students / total_students) * 100\n",
    "\n",
    "# Print the result\n",
    "print(f\"{percentage_asian:.2f}% of all students are Asian.\")"
   ]
  },
  {
   "cell_type": "markdown",
   "id": "231266e3-fe02-449a-98a5-007b5e362084",
   "metadata": {},
   "source": [
    "## 18. Display the full name of all students born in 2010"
   ]
  },
  {
   "cell_type": "code",
   "execution_count": 14,
   "id": "46913851",
   "metadata": {},
   "outputs": [
    {
     "name": "stdout",
     "output_type": "stream",
     "text": [
      "         Full Name\n",
      "6  Roger Frederick\n"
     ]
    },
    {
     "name": "stderr",
     "output_type": "stream",
     "text": [
      "C:\\Users\\HP\\AppData\\Local\\Temp\\ipykernel_33564\\2892767866.py:11: SettingWithCopyWarning: \n",
      "A value is trying to be set on a copy of a slice from a DataFrame.\n",
      "Try using .loc[row_indexer,col_indexer] = value instead\n",
      "\n",
      "See the caveats in the documentation: https://pandas.pydata.org/pandas-docs/stable/user_guide/indexing.html#returning-a-view-versus-a-copy\n",
      "  students_2010[\"Full Name\"] = students_2010[\"First Name\"] + \" \" + students_2010[\"Last Name\"]\n"
     ]
    }
   ],
   "source": [
    "# Load the demography data\n",
    "demography_df = pd.read_excel(\"Exam Stress Final.xlsx\", sheet_name=\"Demography\")\n",
    "\n",
    "# Convert DOB to datetime format\n",
    "demography_df[\"DOB\"] = pd.to_datetime(demography_df[\"DOB\"], errors='coerce')\n",
    "\n",
    "# Filter students born in 2010\n",
    "students_2010 = demography_df[demography_df[\"DOB\"].dt.year == 2010]\n",
    "\n",
    "# Display full names\n",
    "students_2010[\"Full Name\"] = students_2010[\"First Name\"] + \" \" + students_2010[\"Last Name\"]\n",
    "\n",
    "# Print the full names\n",
    "print(students_2010[[\"Full Name\"]])"
   ]
  },
  {
   "cell_type": "markdown",
   "id": "e41ca38e-a5b4-4dda-8cef-5787b84cfd86",
   "metadata": {},
   "source": [
    "## 19. What was the average HR of the students who achieved the top 3 grades in mid-term 2"
   ]
  },
  {
   "cell_type": "code",
   "execution_count": 16,
   "id": "33df2b0b",
   "metadata": {},
   "outputs": [
    {
     "name": "stdout",
     "output_type": "stream",
     "text": [
      "The average HR of the students who achieved the top 3 grades in Midterm 2 is 107.99.\n"
     ]
    }
   ],
   "source": [
    "# Load the Grades and HR data\n",
    "grades_df = pd.read_excel(\"Exam Stress Final.xlsx\", sheet_name=\"Grades\")\n",
    "HR_df = pd.read_excel(\"Exam Stress Final.xlsx\", sheet_name=\"HR\")\n",
    "\n",
    "# Find the top 3 highest grades in Midterm 2\n",
    "top_3_scores = grades_df.nlargest(3, \"Midterm 2\")\n",
    "\n",
    "# Filter HR data for students who achieved these top 3 grades\n",
    "top_students_HR = HR_df[HR_df[\"Student_id\"].isin(top_3_scores[\"Student_id\"])]\n",
    "\n",
    "# Calculate the average HR for these students\n",
    "average_HR = top_students_HR[\"HR\"].mean()\n",
    "\n",
    "# Print the result\n",
    "print(f\"The average HR of the students who achieved the top 3 grades in Midterm 2 is {average_HR:.2f}.\")"
   ]
  },
  {
   "cell_type": "markdown",
   "id": "e1eeca4f-44bb-4e87-8bad-91a0463ccba4",
   "metadata": {},
   "source": [
    "## 20. Use a bar chart to display the grades of every student in mid term 1"
   ]
  },
  {
   "cell_type": "code",
   "execution_count": 17,
   "id": "4ed37ff8",
   "metadata": {},
   "outputs": [
    {
     "data": {
      "image/png": "[encoded data removed]",
      "text/plain": [
       "<Figure size 1000x500 with 1 Axes>"
      ]
     },
     "metadata": {},
     "output_type": "display_data"
    }
   ],
   "source": [
    "# Load the Grades data\n",
    "grades_df = pd.read_excel(\"Exam Stress Final.xlsx\", sheet_name=\"Grades\")\n",
    "\n",
    "# Create the bar chart\n",
    "plt.figure(figsize=(10, 5))\n",
    "plt.bar(grades_df[\"Student_id\"], grades_df[\"Midterm 1\"], color='blue')\n",
    "\n",
    "# Add labels and title\n",
    "plt.xlabel(\"Student ID\")\n",
    "plt.ylabel(\"Midterm 1 Grade\")\n",
    "plt.title(\"Midterm 1 Grades of Each Student\")\n",
    "plt.xticks(rotation=45)  # Rotate x-axis labels for better readability\n",
    "\n",
    "# Show the plot\n",
    "plt.show()"
   ]
  },
  {
   "cell_type": "markdown",
   "id": "47fc7b7a-d1ff-4091-a8ea-b9420d06f992",
   "metadata": {},
   "source": [
    "## 21.What % of all students are female?"
   ]
  },
  {
   "cell_type": "code",
   "execution_count": 15,
   "id": "601b9658",
   "metadata": {},
   "outputs": [
    {
     "name": "stdout",
     "output_type": "stream",
     "text": [
      "50.00% of all students are Female.\n"
     ]
    }
   ],
   "source": [
    "# Load the demography data\n",
    "demography_df = pd.read_excel(\"Exam Stress Final.xlsx\", sheet_name=\"Demography\")\n",
    "\n",
    "# Count the number of female students\n",
    "female_students = demography_df[demography_df[\"Gender\"] == \"F\"][\"Student_id\"].nunique()\n",
    "\n",
    "# Calculate the total number of students\n",
    "total_students = demography_df[\"Student_id\"].nunique()\n",
    "\n",
    "# Calculate the percentage of Asian students\n",
    "percentage_female = (female_students / total_students) * 100\n",
    "\n",
    "# Print the result\n",
    "print(f\"{percentage_female:.2f}% of all students are Female.\")"
   ]
  },
  {
   "cell_type": "markdown",
   "id": "9a88f29b-c33d-4afb-8f58-26553d3cc794",
   "metadata": {},
   "source": [
    "## 22.Show the students for whom temperature fell below basal body temp of 36 degrees"
   ]
  },
  {
   "cell_type": "markdown",
   "id": "b881b2a2-0d8f-4ff9-82f2-469b2c2c81d0",
   "metadata": {},
   "source": [
    "## 23. Connect to sql and query the data in temp into a table of the same name"
   ]
  },
  {
   "cell_type": "markdown",
   "id": "b1ac43cd-eff9-48ee-a8d4-fa4e23571eae",
   "metadata": {},
   "source": [
    "## 24. Display a sunburst chart of count of students by Age, Gender and Race"
   ]
  },
  {
   "cell_type": "code",
   "execution_count": 22,
   "id": "09ea57dc",
   "metadata": {},
   "outputs": [
    {
     "name": "stdout",
     "output_type": "stream",
     "text": [
      "Requirement already satisfied: nbformat in c:\\users\\hp\\appdata\\local\\programs\\python\\python311\\lib\\site-packages (5.10.4)\n",
      "Requirement already satisfied: fastjsonschema>=2.15 in c:\\users\\hp\\appdata\\local\\programs\\python\\python311\\lib\\site-packages (from nbformat) (2.21.1)\n",
      "Requirement already satisfied: jsonschema>=2.6 in c:\\users\\hp\\appdata\\local\\programs\\python\\python311\\lib\\site-packages (from nbformat) (4.23.0)\n",
      "Requirement already satisfied: jupyter-core!=5.0.*,>=4.12 in c:\\users\\hp\\appdata\\roaming\\python\\python311\\site-packages (from nbformat) (5.7.2)\n",
      "Requirement already satisfied: traitlets>=5.1 in c:\\users\\hp\\appdata\\roaming\\python\\python311\\site-packages (from nbformat) (5.14.2)\n",
      "Requirement already satisfied: attrs>=22.2.0 in c:\\users\\hp\\appdata\\local\\programs\\python\\python311\\lib\\site-packages (from jsonschema>=2.6->nbformat) (25.1.0)\n",
      "Requirement already satisfied: jsonschema-specifications>=2023.03.6 in c:\\users\\hp\\appdata\\local\\programs\\python\\python311\\lib\\site-packages (from jsonschema>=2.6->nbformat) (2024.10.1)\n",
      "Requirement already satisfied: referencing>=0.28.4 in c:\\users\\hp\\appdata\\local\\programs\\python\\python311\\lib\\site-packages (from jsonschema>=2.6->nbformat) (0.36.2)\n",
      "Requirement already satisfied: rpds-py>=0.7.1 in c:\\users\\hp\\appdata\\local\\programs\\python\\python311\\lib\\site-packages (from jsonschema>=2.6->nbformat) (0.23.1)\n",
      "Requirement already satisfied: platformdirs>=2.5 in c:\\users\\hp\\appdata\\roaming\\python\\python311\\site-packages (from jupyter-core!=5.0.*,>=4.12->nbformat) (4.2.0)\n",
      "Requirement already satisfied: pywin32>=300 in c:\\users\\hp\\appdata\\roaming\\python\\python311\\site-packages (from jupyter-core!=5.0.*,>=4.12->nbformat) (306)\n",
      "Requirement already satisfied: typing-extensions>=4.4.0 in c:\\users\\hp\\appdata\\local\\programs\\python\\python311\\lib\\site-packages (from referencing>=0.28.4->jsonschema>=2.6->nbformat) (4.12.2)\n",
      "Note: you may need to restart the kernel to use updated packages.\n"
     ]
    },
    {
     "name": "stderr",
     "output_type": "stream",
     "text": [
      "\n",
      "[notice] A new release of pip available: 22.3.1 -> 25.0.1\n",
      "[notice] To update, run: python.exe -m pip install --upgrade pip\n"
     ]
    }
   ],
   "source": [
    "pip install --upgrade nbformat"
   ]
  },
  {
   "cell_type": "code",
   "execution_count": 24,
   "id": "7b070c47",
   "metadata": {},
   "outputs": [
    {
     "name": "stdout",
     "output_type": "stream",
     "text": [
      "Requirement already satisfied: ipython in c:\\users\\hp\\appdata\\roaming\\python\\python311\\site-packages (8.22.2)\n",
      "Collecting ipython\n",
      "  Downloading ipython-8.32.0-py3-none-any.whl (825 kB)\n",
      "     -------------------------------------- 825.5/825.5 kB 3.5 MB/s eta 0:00:00\n",
      "Requirement already satisfied: colorama in c:\\users\\hp\\appdata\\roaming\\python\\python311\\site-packages (from ipython) (0.4.6)\n",
      "Requirement already satisfied: decorator in c:\\users\\hp\\appdata\\roaming\\python\\python311\\site-packages (from ipython) (5.1.1)\n",
      "Requirement already satisfied: jedi>=0.16 in c:\\users\\hp\\appdata\\roaming\\python\\python311\\site-packages (from ipython) (0.19.1)\n",
      "Requirement already satisfied: matplotlib-inline in c:\\users\\hp\\appdata\\roaming\\python\\python311\\site-packages (from ipython) (0.1.6)\n",
      "Requirement already satisfied: prompt_toolkit<3.1.0,>=3.0.41 in c:\\users\\hp\\appdata\\roaming\\python\\python311\\site-packages (from ipython) (3.0.43)\n",
      "Requirement already satisfied: pygments>=2.4.0 in c:\\users\\hp\\appdata\\roaming\\python\\python311\\site-packages (from ipython) (2.17.2)\n",
      "Requirement already satisfied: stack_data in c:\\users\\hp\\appdata\\roaming\\python\\python311\\site-packages (from ipython) (0.6.3)\n",
      "Requirement already satisfied: traitlets>=5.13.0 in c:\\users\\hp\\appdata\\roaming\\python\\python311\\site-packages (from ipython) (5.14.2)\n",
      "Requirement already satisfied: typing_extensions>=4.6 in c:\\users\\hp\\appdata\\local\\programs\\python\\python311\\lib\\site-packages (from ipython) (4.12.2)\n",
      "Requirement already satisfied: parso<0.9.0,>=0.8.3 in c:\\users\\hp\\appdata\\roaming\\python\\python311\\site-packages (from jedi>=0.16->ipython) (0.8.3)\n",
      "Requirement already satisfied: wcwidth in c:\\users\\hp\\appdata\\roaming\\python\\python311\\site-packages (from prompt_toolkit<3.1.0,>=3.0.41->ipython) (0.2.13)\n",
      "Requirement already satisfied: executing>=1.2.0 in c:\\users\\hp\\appdata\\roaming\\python\\python311\\site-packages (from stack_data->ipython) (2.0.1)\n",
      "Requirement already satisfied: asttokens>=2.1.0 in c:\\users\\hp\\appdata\\roaming\\python\\python311\\site-packages (from stack_data->ipython) (2.4.1)\n",
      "Requirement already satisfied: pure-eval in c:\\users\\hp\\appdata\\roaming\\python\\python311\\site-packages (from stack_data->ipython) (0.2.2)\n",
      "Requirement already satisfied: six>=1.12.0 in c:\\users\\hp\\appdata\\roaming\\python\\python311\\site-packages (from asttokens>=2.1.0->stack_data->ipython) (1.16.0)\n",
      "Installing collected packages: ipython\n",
      "  Attempting uninstall: ipython\n",
      "    Found existing installation: ipython 8.22.2\n",
      "    Uninstalling ipython-8.22.2:\n",
      "      Successfully uninstalled ipython-8.22.2\n",
      "Successfully installed ipython-8.32.0\n",
      "Note: you may need to restart the kernel to use updated packages.\n"
     ]
    },
    {
     "name": "stderr",
     "output_type": "stream",
     "text": [
      "  WARNING: The scripts ipython.exe and ipython3.exe are installed in 'c:\\Users\\HP\\AppData\\Local\\Programs\\Python\\Python311\\Scripts' which is not on PATH.\n",
      "  Consider adding this directory to PATH or, if you prefer to suppress this warning, use --no-warn-script-location.\n",
      "\n",
      "[notice] A new release of pip available: 22.3.1 -> 25.0.1\n",
      "[notice] To update, run: python.exe -m pip install --upgrade pip\n"
     ]
    }
   ],
   "source": [
    "pip install --upgrade ipython"
   ]
  },
  {
   "cell_type": "code",
   "execution_count": 27,
   "id": "1e627820",
   "metadata": {},
   "outputs": [],
   "source": [
    "import plotly.io as pio\n",
    "pio.renderers.default = \"browser\"\n",
    "fig.show()"
   ]
  },
  {
   "cell_type": "code",
   "execution_count": 25,
   "id": "d13ae902",
   "metadata": {},
   "outputs": [
    {
     "ename": "ValueError",
     "evalue": "Mime type rendering requires nbformat>=4.2.0 but it is not installed",
     "output_type": "error",
     "traceback": [
      "\u001b[1;31m---------------------------------------------------------------------------\u001b[0m",
      "\u001b[1;31mValueError\u001b[0m                                Traceback (most recent call last)",
      "Cell \u001b[1;32mIn[25], line 16\u001b[0m\n\u001b[0;32m     13\u001b[0m fig \u001b[38;5;241m=\u001b[39m px\u001b[38;5;241m.\u001b[39msunburst(demography_df, path\u001b[38;5;241m=\u001b[39m[\u001b[38;5;124m\"\u001b[39m\u001b[38;5;124mAge\u001b[39m\u001b[38;5;124m\"\u001b[39m, \u001b[38;5;124m\"\u001b[39m\u001b[38;5;124mGender\u001b[39m\u001b[38;5;124m\"\u001b[39m, \u001b[38;5;124m\"\u001b[39m\u001b[38;5;124mRace\u001b[39m\u001b[38;5;124m\"\u001b[39m], title\u001b[38;5;241m=\u001b[39m\u001b[38;5;124m\"\u001b[39m\u001b[38;5;124mCount of Students by Age, Gender, and Race\u001b[39m\u001b[38;5;124m\"\u001b[39m)\n\u001b[0;32m     15\u001b[0m \u001b[38;5;66;03m# Show the plot\u001b[39;00m\n\u001b[1;32m---> 16\u001b[0m \u001b[43mfig\u001b[49m\u001b[38;5;241;43m.\u001b[39;49m\u001b[43mshow\u001b[49m\u001b[43m(\u001b[49m\u001b[43m)\u001b[49m\n",
      "File \u001b[1;32mc:\\Users\\HP\\AppData\\Local\\Programs\\Python\\Python311\\Lib\\site-packages\\plotly\\basedatatypes.py:3414\u001b[0m, in \u001b[0;36mBaseFigure.show\u001b[1;34m(self, *args, **kwargs)\u001b[0m\n\u001b[0;32m   3381\u001b[0m \u001b[38;5;250m\u001b[39m\u001b[38;5;124;03m\"\"\"\u001b[39;00m\n\u001b[0;32m   3382\u001b[0m \u001b[38;5;124;03mShow a figure using either the default renderer(s) or the renderer(s)\u001b[39;00m\n\u001b[0;32m   3383\u001b[0m \u001b[38;5;124;03mspecified by the renderer argument\u001b[39;00m\n\u001b[1;32m   (...)\u001b[0m\n\u001b[0;32m   3410\u001b[0m \u001b[38;5;124;03mNone\u001b[39;00m\n\u001b[0;32m   3411\u001b[0m \u001b[38;5;124;03m\"\"\"\u001b[39;00m\n\u001b[0;32m   3412\u001b[0m \u001b[38;5;28;01mimport\u001b[39;00m \u001b[38;5;21;01mplotly\u001b[39;00m\u001b[38;5;21;01m.\u001b[39;00m\u001b[38;5;21;01mio\u001b[39;00m \u001b[38;5;28;01mas\u001b[39;00m \u001b[38;5;21;01mpio\u001b[39;00m\n\u001b[1;32m-> 3414\u001b[0m \u001b[38;5;28;01mreturn\u001b[39;00m \u001b[43mpio\u001b[49m\u001b[38;5;241;43m.\u001b[39;49m\u001b[43mshow\u001b[49m\u001b[43m(\u001b[49m\u001b[38;5;28;43mself\u001b[39;49m\u001b[43m,\u001b[49m\u001b[43m \u001b[49m\u001b[38;5;241;43m*\u001b[39;49m\u001b[43margs\u001b[49m\u001b[43m,\u001b[49m\u001b[43m \u001b[49m\u001b[38;5;241;43m*\u001b[39;49m\u001b[38;5;241;43m*\u001b[39;49m\u001b[43mkwargs\u001b[49m\u001b[43m)\u001b[49m\n",
      "File \u001b[1;32mc:\\Users\\HP\\AppData\\Local\\Programs\\Python\\Python311\\Lib\\site-packages\\plotly\\io\\_renderers.py:425\u001b[0m, in \u001b[0;36mshow\u001b[1;34m(fig, renderer, validate, **kwargs)\u001b[0m\n\u001b[0;32m    420\u001b[0m     \u001b[38;5;28;01mraise\u001b[39;00m \u001b[38;5;167;01mValueError\u001b[39;00m(\n\u001b[0;32m    421\u001b[0m         \u001b[38;5;124m\"\u001b[39m\u001b[38;5;124mMime type rendering requires ipython but it is not installed\u001b[39m\u001b[38;5;124m\"\u001b[39m\n\u001b[0;32m    422\u001b[0m     )\n\u001b[0;32m    424\u001b[0m \u001b[38;5;28;01mif\u001b[39;00m \u001b[38;5;129;01mnot\u001b[39;00m nbformat \u001b[38;5;129;01mor\u001b[39;00m Version(nbformat\u001b[38;5;241m.\u001b[39m__version__) \u001b[38;5;241m<\u001b[39m Version(\u001b[38;5;124m\"\u001b[39m\u001b[38;5;124m4.2.0\u001b[39m\u001b[38;5;124m\"\u001b[39m):\n\u001b[1;32m--> 425\u001b[0m     \u001b[38;5;28;01mraise\u001b[39;00m \u001b[38;5;167;01mValueError\u001b[39;00m(\n\u001b[0;32m    426\u001b[0m         \u001b[38;5;124m\"\u001b[39m\u001b[38;5;124mMime type rendering requires nbformat>=4.2.0 but it is not installed\u001b[39m\u001b[38;5;124m\"\u001b[39m\n\u001b[0;32m    427\u001b[0m     )\n\u001b[0;32m    429\u001b[0m display_jupyter_version_warnings()\n\u001b[0;32m    431\u001b[0m ipython_display\u001b[38;5;241m.\u001b[39mdisplay(bundle, raw\u001b[38;5;241m=\u001b[39m\u001b[38;5;28;01mTrue\u001b[39;00m)\n",
      "\u001b[1;31mValueError\u001b[0m: Mime type rendering requires nbformat>=4.2.0 but it is not installed"
     ]
    }
   ],
   "source": [
    "import pandas as pd\n",
    "import plotly.express as px\n",
    "from datetime import datetime\n",
    "\n",
    "# Load the Demography data\n",
    "demography_df = pd.read_excel(\"Exam Stress Final.xlsx\", sheet_name=\"Demography\")\n",
    "\n",
    "# Convert DOB to datetime format and calculate Age\n",
    "demography_df[\"DOB\"] = pd.to_datetime(demography_df[\"DOB\"], errors='coerce')\n",
    "demography_df[\"Age\"] = datetime.now().year - demography_df[\"DOB\"].dt.year\n",
    "\n",
    "# Create the Sunburst chart\n",
    "fig = px.sunburst(demography_df, path=[\"Age\", \"Gender\", \"Race\"], title=\"Count of Students by Age, Gender, and Race\")\n",
    "\n",
    "# Show the plot\n",
    "fig.show()"
   ]
  },
  {
   "cell_type": "markdown",
   "id": "f46f5d5e-5ed2-4376-a7da-64df4968e81b",
   "metadata": {},
   "source": [
    "## 25. Create a visualization on the count of Students with an HRV 10 or more points lower than ideal HRV."
   ]
  },
  {
   "cell_type": "markdown",
   "id": "8c2fd2a2-d883-4d57-a5e1-4587c800f36d",
   "metadata": {},
   "source": [
    "## 26. Plot a graph to show the distribution of score in the final exam by gender"
   ]
  },
  {
   "cell_type": "markdown",
   "id": "695079e0-445e-4716-89f5-f3caa1b01026",
   "metadata": {},
   "source": [
    "## 27. Which demographic has the lowest average of scores in all 3 exams"
   ]
  },
  {
   "cell_type": "markdown",
   "id": "18404811-8042-475f-bf64-5c488dfec036",
   "metadata": {},
   "source": [
    "## 28. Delete the column age from question 12, using an iterative loop"
   ]
  },
  {
   "cell_type": "markdown",
   "id": "a265395c-59b2-4292-8c03-4b237e7a96b3",
   "metadata": {},
   "source": [
    "## 29. Create a heat map of HRV, temp and scores. To show the correlation beween these variables"
   ]
  },
  {
   "cell_type": "markdown",
   "id": "8ad48843-a490-490b-9c1c-40256bff3d32",
   "metadata": {},
   "source": [
    "## 30. Use the dataset given and Enumerate in Python with any example."
   ]
  },
  {
   "cell_type": "markdown",
   "id": "19ffcf18-5467-4736-b248-c8209f575760",
   "metadata": {},
   "source": [
    "## 31. Create a jointplot on EDA & Grades"
   ]
  },
  {
   "cell_type": "markdown",
   "id": "564b4985-c285-4d2d-9a10-3cbb57621fb5",
   "metadata": {},
   "source": [
    "## 32. Use indexing , loc to retrieve the row with maximum HR"
   ]
  },
  {
   "cell_type": "markdown",
   "id": "d7b9145e-4858-4a9a-a864-27b079c1fcec",
   "metadata": {},
   "source": [
    "## 33. Make a pivot table where Student IDs are the columns and EDA, HR and temp values are the rows"
   ]
  },
  {
   "cell_type": "markdown",
   "id": "c65a4125-7239-4f68-b41e-498644dac626",
   "metadata": {},
   "source": [
    "## 34. Display the Student Demographics and Grades who are born in leap Year"
   ]
  },
  {
   "cell_type": "markdown",
   "id": "e5bb4bfb-e030-4a64-9fd9-25015720ff4f",
   "metadata": {},
   "source": [
    "## 35. Create a Bins of Grades to segregate the students in Grades  'A','B',C'"
   ]
  },
  {
   "cell_type": "markdown",
   "id": "0c39a183-e0be-44f7-902c-219a43fac5c5",
   "metadata": {},
   "source": [
    "## 36.Create a Word Cloud with First name of Student Names based on the Race "
   ]
  },
  {
   "cell_type": "markdown",
   "id": "a0cc1276-586a-4413-8069-97ad6d155f60",
   "metadata": {},
   "source": [
    "## 37.Display the student Names and respective grades who has Maximum heart rate"
   ]
  },
  {
   "cell_type": "markdown",
   "id": "4cbc3e19-eda4-4886-99ac-38572fc23972",
   "metadata": {},
   "source": [
    "## 38. Write a Python program to get the number of occurrences of a specified element in the array."
   ]
  },
  {
   "cell_type": "markdown",
   "id": "a7453741-ee91-45b2-8f9f-5025cc875f95",
   "metadata": {},
   "source": [
    "## 39. Create a 3D list using nested for loops"
   ]
  },
  {
   "cell_type": "markdown",
   "id": "1038dba2-1330-4251-9326-58cd423e2eef",
   "metadata": {
    "tags": []
   },
   "source": [
    "## 40.Display each row of this array as a separate slice"
   ]
  },
  {
   "cell_type": "markdown",
   "id": "bfb47184-80b8-4fd5-9e71-dd35d884bae3",
   "metadata": {
    "tags": []
   },
   "source": [
    "## 41. Find the Student name and the Exam who has the Temperature '36.042'"
   ]
  },
  {
   "cell_type": "markdown",
   "id": "02d8c381-7cd8-4f47-b18e-4408689342af",
   "metadata": {},
   "source": [
    "## 42. Using arrays and loops, find the count of students based on gender"
   ]
  },
  {
   "cell_type": "markdown",
   "id": "80aee54b-111e-4ad2-b0a8-8e440c7bd886",
   "metadata": {},
   "source": [
    "## 43. Generate Unique Student ID  using Lamda Function"
   ]
  },
  {
   "cell_type": "markdown",
   "id": "31d36ebb-5063-44ad-83e8-af082a39e5be",
   "metadata": {},
   "source": [
    "## 44. Create a Box  plot for HR and Temp"
   ]
  },
  {
   "cell_type": "markdown",
   "id": "640ed8b1-e385-4205-94b7-64390618e034",
   "metadata": {},
   "source": [
    "## 45. Find the student's Max mean EDA who are attending Final "
   ]
  },
  {
   "cell_type": "markdown",
   "id": "ce09cf74-f194-4bc0-affd-0f1f24ec3762",
   "metadata": {},
   "source": [
    "## 46. Find the Grade of a Student whose Name ends with 'S'"
   ]
  },
  {
   "cell_type": "markdown",
   "id": "a6fe2a29-468a-4a9f-b8ae-73115b860080",
   "metadata": {},
   "source": [
    "## 47. Plot Temp analysis of all students during 1 hr of the exam (x axis time and y axis Temp)"
   ]
  },
  {
   "cell_type": "markdown",
   "id": "083b1ded-ed57-4930-96f9-d30e468954f4",
   "metadata": {},
   "source": [
    "## 48. Find the Full Name of the student who has Max HR"
   ]
  },
  {
   "cell_type": "markdown",
   "id": "5991f8a5-d7c5-4b27-b10d-0022d16780e9",
   "metadata": {},
   "source": [
    "## 50. Count the Students who are in the Race Group 'White'"
   ]
  },
  {
   "cell_type": "markdown",
   "id": "63ee97c4-f32f-4e07-8f4a-de6b71537b27",
   "metadata": {},
   "source": [
    "## 51. Display the Youngest Student demographic details. with Avg Heart Rate"
   ]
  },
  {
   "cell_type": "markdown",
   "id": "2a1a7b4c-9019-4575-8829-ccd78245bc01",
   "metadata": {},
   "source": [
    "## 52. Plot the Donut chart Student distrubution by Gender"
   ]
  },
  {
   "cell_type": "markdown",
   "id": "748731b4-fa6a-4a06-bf2b-cceccc1f89ca",
   "metadata": {},
   "source": [
    "## 53. Calculate the 'AGE' of the Student and Display with Student Name "
   ]
  },
  {
   "cell_type": "markdown",
   "id": "813bd7c6-e14e-4bf7-919f-f228c199620f",
   "metadata": {},
   "source": [
    "## 55. Display the mean Heart Rate who scored Least Grade in Final"
   ]
  },
  {
   "cell_type": "markdown",
   "id": "3d139a14-45c1-47be-b2e0-96d423827430",
   "metadata": {},
   "source": [
    "## 56. Input the Lastname of the Student and Based on the gender concatinate 'MR' or 'MS' to the Full Name"
   ]
  },
  {
   "cell_type": "markdown",
   "id": "0e1b4f82-00e1-4718-8a17-6cc3015ea457",
   "metadata": {},
   "source": [
    "## 57. Give Distrubution chart of MAX EDA of the midterm1"
   ]
  },
  {
   "cell_type": "markdown",
   "id": "f5794331-1d47-4447-9dd5-83e1bbb0c1fe",
   "metadata": {},
   "source": [
    "## 58. Count the students based on Genderwise using count plot"
   ]
  },
  {
   "cell_type": "markdown",
   "id": "eebec28d-1321-4192-9872-8a86ec37d324",
   "metadata": {},
   "source": [
    "## 59. Display full name of Student who are born in year '2010'"
   ]
  },
  {
   "cell_type": "markdown",
   "id": "58df48c0-6f32-466f-89d7-787246efa9e1",
   "metadata": {},
   "source": [
    "## 60. [ 1,  2,  3,  4,  5],\n",
    "       [ 6,  7,  8,  9, 10],\n",
    "       [11, 12, 13, 14, 15],\n",
    "       [16, 17, 18, 19, 20],\n",
    "       [21, 22, 23, 24, 25],\n",
    "       [26, 27, 28, 29, 30]  In the Array,find array slicing for elements 2,8,14,20."
   ]
  },
  {
   "cell_type": "markdown",
   "id": "c4fde1c5-a752-452d-b056-98e4597ecca0",
   "metadata": {},
   "source": [
    "## 61. Create a dataframe with Max EDA and Mean HR as the indices and the count of number of records per student as the value."
   ]
  },
  {
   "cell_type": "markdown",
   "id": "2ed7471c-68d7-459e-917a-f733931a8555",
   "metadata": {},
   "source": [
    "## 62. Print the Last name like below ouptput eg:.Last Name and count of Last Name   Occurance  :\n",
    " Counter({'Doe': 2, 'Walters': 1, 'Jones': 1, 'Willows': 1, 'Murray': 1, 'Frederick': 1, 'Wills': 1, 'Cartney': 1, 'Smith': 1})"
   ]
  },
  {
   "cell_type": "markdown",
   "id": "914ce03d-d58c-421a-89a2-d086dd3a1f72",
   "metadata": {},
   "source": [
    "## 63. Retrieve the row with minimum EDA using sorting technique."
   ]
  },
  {
   "cell_type": "markdown",
   "id": "395eb6e0-8119-4ec0-8343-76cb8620a2e4",
   "metadata": {},
   "source": [
    "## 64. Get the last letter of last name of students using RegEX"
   ]
  },
  {
   "cell_type": "markdown",
   "id": "8b06e116-17ae-44cd-aa5d-f6e4905d540b",
   "metadata": {},
   "source": [
    "## 65. Generate a 3x3  Array using Random values between 1to 9  and Fix the values and position  in Next Run."
   ]
  },
  {
   "cell_type": "markdown",
   "id": "ab413951-2b34-4f9a-8c64-6344fa74dc18",
   "metadata": {},
   "source": [
    "## 66.Find the way to reverse a string for given input\n"
   ]
  },
  {
   "cell_type": "markdown",
   "id": "06909248-5100-4f37-a9fa-5bd0e5f8763e",
   "metadata": {},
   "source": [
    "## 68. Using HR values print even if it is even number or odd if it is odd number"
   ]
  },
  {
   "cell_type": "markdown",
   "id": "2dc9d3d3-593e-469d-84d1-a11458c8d028",
   "metadata": {},
   "source": [
    "## 69. Input any string from user, convert that into a tuple and then find the length of that tuple"
   ]
  },
  {
   "cell_type": "markdown",
   "id": "e6a12288-c01d-47f8-a415-97b96e40bf87",
   "metadata": {},
   "source": [
    "## 70. Find the students who has 'o' in their names and print them"
   ]
  },
  {
   "cell_type": "markdown",
   "id": "688f7936-957b-40e2-80f6-9944b871faec",
   "metadata": {},
   "source": [
    "## 71. Create the visualization to count the student based on race"
   ]
  },
  {
   "cell_type": "markdown",
   "id": "0cfc4c53-fc29-4916-a9bc-6e54da458746",
   "metadata": {},
   "source": [
    "## 72. Select 25 different random values between 366 to 500. Code should generate same value if we run again"
   ]
  },
  {
   "cell_type": "markdown",
   "id": "515ccc55-aa72-4d42-b9df-f067dae9eef4",
   "metadata": {},
   "source": [
    "## 73.Find the max EDA of the highest scoring student(whose average of midterm1, midterm2 and final is maximum)"
   ]
  },
  {
   "cell_type": "markdown",
   "id": "f6891bd4-b266-4e2f-b3f1-30c65b261c3e",
   "metadata": {},
   "source": [
    "## 74. Create a pie chart for grades and explode the wedge with Highest Grade in Final and label with the student ID"
   ]
  },
  {
   "cell_type": "markdown",
   "id": "1eceffd7-98ee-471c-8c4e-a60afb70cffa",
   "metadata": {},
   "source": [
    "## 75. Find min temp of the student whose avg score (midterm1, midterm2, final) is minimum"
   ]
  },
  {
   "cell_type": "markdown",
   "id": "2c549fa0-7772-40fa-ac0d-c54740da8b82",
   "metadata": {},
   "source": [
    "## 76. Plot the time series of HR (every 5 mins) of student 07"
   ]
  },
  {
   "cell_type": "markdown",
   "id": "3c89e1b5-ddd7-4663-8261-8e5d654bbb73",
   "metadata": {},
   "source": [
    "## 77. Plot the density chart for IBI"
   ]
  },
  {
   "cell_type": "markdown",
   "id": "9e7791aa-da58-4c11-8318-4c18f7c6e7c3",
   "metadata": {},
   "source": [
    "## 78. Convert gender into numeric by one-hot coding"
   ]
  },
  {
   "cell_type": "markdown",
   "id": "8966ce21-9f4f-4d85-947b-e2eaf9d24e7c",
   "metadata": {},
   "source": [
    "## 79. Convert 'race' into numeric by label-coding"
   ]
  },
  {
   "cell_type": "markdown",
   "id": "fda30470-f398-4657-b6f5-f2c827c89a55",
   "metadata": {},
   "source": [
    "## 80. Create a Regression Plot on max EDA and mean HR"
   ]
  },
  {
   "cell_type": "code",
   "execution_count": null,
   "id": "f8da724f-93fd-4d61-b495-099d3b61ecde",
   "metadata": {},
   "outputs": [],
   "source": []
  }
 ],
 "metadata": {
  "kernelspec": {
   "display_name": "Python 3",
   "language": "python",
   "name": "python3"
  },
  "language_info": {
   "codemirror_mode": {
    "name": "ipython",
    "version": 3
   },
   "file_extension": ".py",
   "mimetype": "text/x-python",
   "name": "python",
   "nbconvert_exporter": "python",
   "pygments_lexer": "ipython3",
   "version": "3.11.1"
  }
 },
 "nbformat": 4,
 "nbformat_minor": 5
}
